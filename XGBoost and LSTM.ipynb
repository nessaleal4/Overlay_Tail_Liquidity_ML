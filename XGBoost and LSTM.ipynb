{
  "cells": [
    {
      "cell_type": "markdown",
      "metadata": {
        "id": "SKQ4bH7qMGrA"
      },
      "source": [
        "# Making the Most of your Colab Subscription\n",
        "\n"
      ]
    },
    {
      "cell_type": "code",
      "execution_count": 1,
      "metadata": {
        "colab": {
          "base_uri": "https://localhost:8080/"
        },
        "id": "23TOba33L4qf",
        "outputId": "a555d455-3fcf-41de-b6e2-413d9704696f"
      },
      "outputs": [
        {
          "output_type": "stream",
          "name": "stdout",
          "text": [
            "Tue Dec 10 05:13:55 2024       \n",
            "+---------------------------------------------------------------------------------------+\n",
            "| NVIDIA-SMI 535.104.05             Driver Version: 535.104.05   CUDA Version: 12.2     |\n",
            "|-----------------------------------------+----------------------+----------------------+\n",
            "| GPU  Name                 Persistence-M | Bus-Id        Disp.A | Volatile Uncorr. ECC |\n",
            "| Fan  Temp   Perf          Pwr:Usage/Cap |         Memory-Usage | GPU-Util  Compute M. |\n",
            "|                                         |                      |               MIG M. |\n",
            "|=========================================+======================+======================|\n",
            "|   0  Tesla T4                       Off | 00000000:00:04.0 Off |                    0 |\n",
            "| N/A   52C    P8              12W /  70W |      0MiB / 15360MiB |      0%      Default |\n",
            "|                                         |                      |                  N/A |\n",
            "+-----------------------------------------+----------------------+----------------------+\n",
            "                                                                                         \n",
            "+---------------------------------------------------------------------------------------+\n",
            "| Processes:                                                                            |\n",
            "|  GPU   GI   CI        PID   Type   Process name                            GPU Memory |\n",
            "|        ID   ID                                                             Usage      |\n",
            "|=======================================================================================|\n",
            "|  No running processes found                                                           |\n",
            "+---------------------------------------------------------------------------------------+\n"
          ]
        }
      ],
      "source": [
        "gpu_info = !nvidia-smi\n",
        "gpu_info = '\\n'.join(gpu_info)\n",
        "if gpu_info.find('failed') >= 0:\n",
        "  print('Not connected to a GPU')\n",
        "else:\n",
        "  print(gpu_info)"
      ]
    },
    {
      "cell_type": "code",
      "execution_count": 2,
      "metadata": {
        "colab": {
          "base_uri": "https://localhost:8080/"
        },
        "id": "V1G82GuO-tez",
        "outputId": "937a877a-99fd-44ac-8ff3-42b80e3e4b79"
      },
      "outputs": [
        {
          "output_type": "stream",
          "name": "stdout",
          "text": [
            "Your runtime has 54.8 gigabytes of available RAM\n",
            "\n",
            "You are using a high-RAM runtime!\n"
          ]
        }
      ],
      "source": [
        "from psutil import virtual_memory\n",
        "ram_gb = virtual_memory().total / 1e9\n",
        "print('Your runtime has {:.1f} gigabytes of available RAM\\n'.format(ram_gb))\n",
        "\n",
        "if ram_gb < 20:\n",
        "  print('Not using a high-RAM runtime')\n",
        "else:\n",
        "  print('You are using a high-RAM runtime!')"
      ]
    },
    {
      "cell_type": "code",
      "source": [
        "import pandas as pd\n",
        "import xgboost as xgb\n",
        "from xgboost import XGBClassifier\n",
        "from sklearn.metrics import classification_report, confusion_matrix, roc_auc_score, roc_curve\n",
        "import numpy as np\n",
        "import matplotlib.pyplot as plt\n",
        "import seaborn as sns\n",
        "import pickle\n",
        "import tensorflow as tf\n",
        "from sklearn.model_selection import train_test_split\n",
        "from sklearn.preprocessing import MinMaxScaler\n",
        "from tensorflow.keras.models import Model\n",
        "from tensorflow.keras.layers import Input, Dense, LSTM, Concatenate\n",
        "from sklearn.metrics import ConfusionMatrixDisplay\n",
        "from sklearn.model_selection import RandomizedSearchCV\n",
        "from sklearn.metrics import make_scorer, f1_score\n",
        "from tensorflow.keras.models import Sequential\n",
        "from tensorflow.keras.layers import LSTM, Dense, Dropout\n",
        "from tensorflow.keras.optimizers import Adam\n",
        "from sklearn.metrics import classification_report"
      ],
      "metadata": {
        "id": "fvSlM5bjscFd"
      },
      "execution_count": 4,
      "outputs": []
    },
    {
      "cell_type": "markdown",
      "source": [
        "**XGBoost -> No Early stopping**"
      ],
      "metadata": {
        "id": "OqLAVh-ZwaZf"
      }
    },
    {
      "cell_type": "code",
      "source": [
        "# Load merged data for SPY prices and sentiment analysis on historical news data\n",
        "merged_data = pd.read_csv('merged_spy_sentiment.csv', parse_dates=['date'], index_col='date')\n",
        "\n",
        "# Select structured features in the merged dataset for the XGBoost model\n",
        "structured_features = ['SMA_20', 'RSI_14', 'BB_High', 'BB_Low', 'compound']\n",
        "target = 'Return_1D'\n",
        "\n",
        "# Normalize the structured features\n",
        "scaler = MinMaxScaler()\n",
        "X_structured = scaler.fit_transform(merged_data[structured_features])\n",
        "y = (merged_data[target] > 0).astype(int)\n",
        "\n",
        "# Train-test split for structured model\n",
        "X_train_struct, X_temp_struct, y_train_struct, y_temp_struct = train_test_split(X_structured, y, test_size=0.3, random_state=42)\n",
        "\n",
        "# Split temp data into validation and test sets\n",
        "X_val_struct, X_test_struct, y_val_struct, y_test_struct = train_test_split(X_temp_struct, y_temp_struct, test_size=0.5, random_state=42)\n",
        "\n",
        "# Train the XGBoost model without early stopping\n",
        "xgb_model = XGBClassifier(random_state=42, use_label_encoder=False, eval_metric='logloss')\n",
        "xgb_model.fit(\n",
        "    X_train_struct,\n",
        "    y_train_struct,\n",
        "    verbose=True\n",
        ")\n",
        "\n",
        "# Predict probabilities for sequential model integration\n",
        "xgb_features_train = xgb_model.predict_proba(X_train_struct)[:, 1]\n",
        "xgb_features_val = xgb_model.predict_proba(X_val_struct)[:, 1]\n",
        "xgb_features_test = xgb_model.predict_proba(X_test_struct)[:, 1]\n",
        "\n",
        "# Print sample results for debugging\n",
        "print(f\"Validation set predictions:\\n{xgb_features_val[:10]}\")\n",
        "\n"
      ],
      "metadata": {
        "id": "S11cX5bot9Dw",
        "outputId": "bcd05d10-ceff-4032-bd3c-4706542fd239",
        "colab": {
          "base_uri": "https://localhost:8080/"
        }
      },
      "execution_count": 5,
      "outputs": [
        {
          "output_type": "stream",
          "name": "stderr",
          "text": [
            "/usr/local/lib/python3.10/dist-packages/xgboost/sklearn.py:1395: UserWarning: `use_label_encoder` is deprecated in 1.7.0.\n",
            "  warnings.warn(\"`use_label_encoder` is deprecated in 1.7.0.\")\n"
          ]
        },
        {
          "output_type": "stream",
          "name": "stdout",
          "text": [
            "Validation set predictions:\n",
            "[0.19334945 0.9735511  0.9525274  0.29096767 0.64593303 0.2982249\n",
            " 0.76311505 0.35221413 0.9700519  0.61588556]\n"
          ]
        }
      ]
    },
    {
      "cell_type": "code",
      "source": [
        "# Predict on the test set\n",
        "y_pred_test = xgb_model.predict(X_test_struct)\n",
        "y_pred_proba_test = xgb_model.predict_proba(X_test_struct)[:, 1]\n",
        "\n",
        "# Classification report\n",
        "print(\"Classification Report for XGBoost:\")\n",
        "print(classification_report(y_test_struct, y_pred_test))\n"
      ],
      "metadata": {
        "id": "aGY_ctBtxwOR",
        "outputId": "5c74fb31-5acd-4f40-c40e-fb0b25d5afa4",
        "colab": {
          "base_uri": "https://localhost:8080/"
        }
      },
      "execution_count": 6,
      "outputs": [
        {
          "output_type": "stream",
          "name": "stdout",
          "text": [
            "Classification Report for XGBoost:\n",
            "              precision    recall  f1-score   support\n",
            "\n",
            "           0       0.97      0.91      0.94     10776\n",
            "           1       0.92      0.98      0.95     12430\n",
            "\n",
            "    accuracy                           0.94     23206\n",
            "   macro avg       0.95      0.94      0.94     23206\n",
            "weighted avg       0.95      0.94      0.94     23206\n",
            "\n"
          ]
        }
      ]
    },
    {
      "cell_type": "code",
      "source": [
        "# Compute confusion matrix\n",
        "conf_matrix = confusion_matrix(y_test_struct, y_pred_test)\n",
        "\n",
        "# Plot confusion matrix\n",
        "plt.figure(figsize=(8, 6))\n",
        "sns.heatmap(conf_matrix, annot=True, fmt='d', cmap='Blues', xticklabels=['0', '1'], yticklabels=['0', '1'])\n",
        "plt.xlabel('Predicted Label')\n",
        "plt.ylabel('True Label')\n",
        "plt.title('Confusion Matrix for XGBoost Model')\n",
        "plt.show()\n"
      ],
      "metadata": {
        "id": "qsnzmwIXyLC5",
        "outputId": "81fee814-53d3-4b28-96d2-2cef49cd3c16",
        "colab": {
          "base_uri": "https://localhost:8080/",
          "height": 564
        }
      },
      "execution_count": 33,
      "outputs": [
        {
          "output_type": "display_data",
          "data": {
            "text/plain": [
              "<Figure size 800x600 with 2 Axes>"
            ],
            "image/png": "[encoded data removed]"
          },
          "metadata": {}
        }
      ]
    },
    {
      "cell_type": "code",
      "source": [
        "# ROC Curve\n",
        "roc_auc = roc_auc_score(y_test_struct, y_pred_proba_test)\n",
        "fpr, tpr, _ = roc_curve(y_test_struct, y_pred_proba_test)\n",
        "\n",
        "plt.figure(figsize=(8, 6))\n",
        "plt.plot(fpr, tpr, label=f'XGBoost (AUC = {roc_auc:.2f})')\n",
        "plt.plot([0, 1], [0, 1], linestyle='--', color='gray')\n",
        "plt.title('ROC Curve')\n",
        "plt.xlabel('False Positive Rate')\n",
        "plt.ylabel('True Positive Rate')\n",
        "plt.legend()\n",
        "plt.grid(True)\n",
        "plt.show()"
      ],
      "metadata": {
        "id": "xZFjarSNyOwh",
        "outputId": "53c454e5-8472-4474-d848-d339551517b2",
        "colab": {
          "base_uri": "https://localhost:8080/",
          "height": 564
        }
      },
      "execution_count": 8,
      "outputs": [
        {
          "output_type": "display_data",
          "data": {
            "text/plain": [
              "<Figure size 800x600 with 1 Axes>"
            ],
            "image/png": "[encoded data removed]"
          },
          "metadata": {}
        }
      ]
    },
    {
      "cell_type": "code",
      "source": [
        "# Save the trained XGBoost model\n",
        "model_filename = \"xgb_model_no_early_stopping.pkl\"\n",
        "with open(model_filename, \"wb\") as file:\n",
        "    pickle.dump(xgb_model, file)\n",
        "\n",
        "print(f\"Model saved as {model_filename}\")"
      ],
      "metadata": {
        "id": "ZdtCvCPq_Ari",
        "outputId": "d01e7699-402c-4a6b-b29a-f72789a9734d",
        "colab": {
          "base_uri": "https://localhost:8080/"
        }
      },
      "execution_count": 9,
      "outputs": [
        {
          "output_type": "stream",
          "name": "stdout",
          "text": [
            "Model saved as xgb_model_no_early_stopping.pkl\n"
          ]
        }
      ]
    },
    {
      "cell_type": "markdown",
      "source": [
        "**Add Early Stopping to XGBoost**"
      ],
      "metadata": {
        "id": "YgsuPd2WBU6H"
      }
    },
    {
      "cell_type": "code",
      "source": [
        "# Train the XGBoost model with early stopping\n",
        "xgb_model_with_early_stopping = XGBClassifier(\n",
        "    random_state=42,\n",
        "    use_label_encoder=False,\n",
        "    eval_metric='logloss'\n",
        ")\n",
        "\n",
        "xgb_model_with_early_stopping.fit(\n",
        "    X_train_struct,\n",
        "    y_train_struct,\n",
        "    eval_set=[(X_val_struct, y_val_struct)],  # Use the validation set\n",
        "    early_stopping_rounds=10,  # Stop training after 10 rounds without improvement\n",
        "    verbose=True\n",
        ")\n",
        "\n",
        "# Predict probabilities for sequential model integration\n",
        "xgb_features_train = xgb_model_with_early_stopping.predict_proba(X_train_struct)[:, 1]\n",
        "xgb_features_val = xgb_model_with_early_stopping.predict_proba(X_val_struct)[:, 1]\n",
        "xgb_features_test = xgb_model_with_early_stopping.predict_proba(X_test_struct)[:, 1]\n",
        "\n",
        "# Print sample results for debugging\n",
        "print(f\"Validation set predictions (with early stopping):\\n{xgb_features_val[:10]}\")"
      ],
      "metadata": {
        "id": "2Emj7yG_AjVY",
        "outputId": "7ace729b-507d-4464-bb27-a32bd9f74e7d",
        "colab": {
          "base_uri": "https://localhost:8080/"
        }
      },
      "execution_count": 11,
      "outputs": [
        {
          "output_type": "stream",
          "name": "stdout",
          "text": [
            "[0]\tvalidation_0-logloss:0.65662\n",
            "[1]\tvalidation_0-logloss:0.63159\n",
            "[2]\tvalidation_0-logloss:0.61524\n",
            "[3]\tvalidation_0-logloss:0.60177\n",
            "[4]\tvalidation_0-logloss:0.59122\n",
            "[5]\tvalidation_0-logloss:0.58620\n",
            "[6]\tvalidation_0-logloss:0.58111\n"
          ]
        },
        {
          "output_type": "stream",
          "name": "stderr",
          "text": [
            "/usr/local/lib/python3.10/dist-packages/xgboost/sklearn.py:1395: UserWarning: `use_label_encoder` is deprecated in 1.7.0.\n",
            "  warnings.warn(\"`use_label_encoder` is deprecated in 1.7.0.\")\n",
            "/usr/local/lib/python3.10/dist-packages/xgboost/sklearn.py:835: UserWarning: `early_stopping_rounds` in `fit` method is deprecated for better compatibility with scikit-learn, use `early_stopping_rounds` in constructor or`set_params` instead.\n",
            "  warnings.warn(\n"
          ]
        },
        {
          "output_type": "stream",
          "name": "stdout",
          "text": [
            "[7]\tvalidation_0-logloss:0.57560\n",
            "[8]\tvalidation_0-logloss:0.56660\n",
            "[9]\tvalidation_0-logloss:0.55937\n",
            "[10]\tvalidation_0-logloss:0.55476\n",
            "[11]\tvalidation_0-logloss:0.54953\n",
            "[12]\tvalidation_0-logloss:0.54406\n",
            "[13]\tvalidation_0-logloss:0.54020\n",
            "[14]\tvalidation_0-logloss:0.53746\n",
            "[15]\tvalidation_0-logloss:0.52942\n",
            "[16]\tvalidation_0-logloss:0.52649\n",
            "[17]\tvalidation_0-logloss:0.52546\n",
            "[18]\tvalidation_0-logloss:0.52419\n",
            "[19]\tvalidation_0-logloss:0.52154\n",
            "[20]\tvalidation_0-logloss:0.51114\n",
            "[21]\tvalidation_0-logloss:0.50415\n",
            "[22]\tvalidation_0-logloss:0.50213\n",
            "[23]\tvalidation_0-logloss:0.49720\n",
            "[24]\tvalidation_0-logloss:0.49584\n",
            "[25]\tvalidation_0-logloss:0.49031\n",
            "[26]\tvalidation_0-logloss:0.48462\n",
            "[27]\tvalidation_0-logloss:0.48292\n",
            "[28]\tvalidation_0-logloss:0.47942\n",
            "[29]\tvalidation_0-logloss:0.47915\n",
            "[30]\tvalidation_0-logloss:0.47716\n",
            "[31]\tvalidation_0-logloss:0.47672\n",
            "[32]\tvalidation_0-logloss:0.47384\n",
            "[33]\tvalidation_0-logloss:0.46997\n",
            "[34]\tvalidation_0-logloss:0.46273\n",
            "[35]\tvalidation_0-logloss:0.45943\n",
            "[36]\tvalidation_0-logloss:0.45645\n",
            "[37]\tvalidation_0-logloss:0.45367\n",
            "[38]\tvalidation_0-logloss:0.44723\n",
            "[39]\tvalidation_0-logloss:0.44403\n",
            "[40]\tvalidation_0-logloss:0.44330\n",
            "[41]\tvalidation_0-logloss:0.44284\n",
            "[42]\tvalidation_0-logloss:0.44176\n",
            "[43]\tvalidation_0-logloss:0.43754\n",
            "[44]\tvalidation_0-logloss:0.42948\n",
            "[45]\tvalidation_0-logloss:0.42398\n",
            "[46]\tvalidation_0-logloss:0.42371\n",
            "[47]\tvalidation_0-logloss:0.41950\n",
            "[48]\tvalidation_0-logloss:0.41370\n",
            "[49]\tvalidation_0-logloss:0.41276\n",
            "[50]\tvalidation_0-logloss:0.40766\n",
            "[51]\tvalidation_0-logloss:0.40404\n",
            "[52]\tvalidation_0-logloss:0.40280\n",
            "[53]\tvalidation_0-logloss:0.39996\n",
            "[54]\tvalidation_0-logloss:0.39384\n",
            "[55]\tvalidation_0-logloss:0.39117\n",
            "[56]\tvalidation_0-logloss:0.39050\n",
            "[57]\tvalidation_0-logloss:0.38382\n",
            "[58]\tvalidation_0-logloss:0.37963\n",
            "[59]\tvalidation_0-logloss:0.37525\n",
            "[60]\tvalidation_0-logloss:0.37429\n",
            "[61]\tvalidation_0-logloss:0.37323\n",
            "[62]\tvalidation_0-logloss:0.37267\n",
            "[63]\tvalidation_0-logloss:0.37240\n",
            "[64]\tvalidation_0-logloss:0.36800\n",
            "[65]\tvalidation_0-logloss:0.36780\n",
            "[66]\tvalidation_0-logloss:0.36681\n",
            "[67]\tvalidation_0-logloss:0.36276\n",
            "[68]\tvalidation_0-logloss:0.35945\n",
            "[69]\tvalidation_0-logloss:0.35606\n",
            "[70]\tvalidation_0-logloss:0.35129\n",
            "[71]\tvalidation_0-logloss:0.34800\n",
            "[72]\tvalidation_0-logloss:0.34674\n",
            "[73]\tvalidation_0-logloss:0.34297\n",
            "[74]\tvalidation_0-logloss:0.34091\n",
            "[75]\tvalidation_0-logloss:0.33858\n",
            "[76]\tvalidation_0-logloss:0.33717\n",
            "[77]\tvalidation_0-logloss:0.33627\n",
            "[78]\tvalidation_0-logloss:0.33372\n",
            "[79]\tvalidation_0-logloss:0.33339\n",
            "[80]\tvalidation_0-logloss:0.32825\n",
            "[81]\tvalidation_0-logloss:0.32380\n",
            "[82]\tvalidation_0-logloss:0.32282\n",
            "[83]\tvalidation_0-logloss:0.32253\n",
            "[84]\tvalidation_0-logloss:0.32100\n",
            "[85]\tvalidation_0-logloss:0.31867\n",
            "[86]\tvalidation_0-logloss:0.31851\n",
            "[87]\tvalidation_0-logloss:0.31528\n",
            "[88]\tvalidation_0-logloss:0.31389\n",
            "[89]\tvalidation_0-logloss:0.31220\n",
            "[90]\tvalidation_0-logloss:0.31017\n",
            "[91]\tvalidation_0-logloss:0.31000\n",
            "[92]\tvalidation_0-logloss:0.30936\n",
            "[93]\tvalidation_0-logloss:0.30788\n",
            "[94]\tvalidation_0-logloss:0.30503\n",
            "[95]\tvalidation_0-logloss:0.30206\n",
            "[96]\tvalidation_0-logloss:0.29994\n",
            "[97]\tvalidation_0-logloss:0.29871\n",
            "[98]\tvalidation_0-logloss:0.29521\n",
            "[99]\tvalidation_0-logloss:0.29294\n",
            "Validation set predictions (with early stopping):\n",
            "[0.19334945 0.9735511  0.9525274  0.29096767 0.64593303 0.2982249\n",
            " 0.76311505 0.35221413 0.9700519  0.61588556]\n"
          ]
        }
      ]
    },
    {
      "cell_type": "code",
      "source": [
        "# Predict on the test set with the model trained with early stopping\n",
        "y_pred_test = xgb_model_with_early_stopping.predict(X_test_struct)\n",
        "y_pred_proba_test = xgb_model_with_early_stopping.predict_proba(X_test_struct)[:, 1]\n",
        "\n",
        "# Print classification report\n",
        "print(\"Classification Report (with early stopping):\")\n",
        "print(classification_report(y_test_struct, y_pred_test))"
      ],
      "metadata": {
        "id": "ejZSQbIuAyYE",
        "outputId": "37dc6343-aee8-4dab-a89f-c16d9e04d122",
        "colab": {
          "base_uri": "https://localhost:8080/"
        }
      },
      "execution_count": 13,
      "outputs": [
        {
          "output_type": "stream",
          "name": "stdout",
          "text": [
            "Classification Report (with early stopping):\n",
            "              precision    recall  f1-score   support\n",
            "\n",
            "           0       0.97      0.91      0.94     10776\n",
            "           1       0.92      0.98      0.95     12430\n",
            "\n",
            "    accuracy                           0.94     23206\n",
            "   macro avg       0.95      0.94      0.94     23206\n",
            "weighted avg       0.95      0.94      0.94     23206\n",
            "\n"
          ]
        }
      ]
    },
    {
      "cell_type": "code",
      "source": [
        "# Confusion Matrix\n",
        "conf_matrix = confusion_matrix(y_test_struct, y_pred_test)\n",
        "disp = ConfusionMatrixDisplay(confusion_matrix=conf_matrix, display_labels=xgb_model_with_early_stopping.classes_)\n",
        "disp.plot(cmap=\"viridis\")\n",
        "plt.title(\"Confusion Matrix (with early stopping)\")\n",
        "plt.show()\n",
        "\n",
        "# ROC Curve\n",
        "roc_auc = roc_auc_score(y_test_struct, y_pred_proba_test)\n",
        "fpr, tpr, thresholds = roc_curve(y_test_struct, y_pred_proba_test)\n",
        "\n",
        "plt.figure(figsize=(8, 6))\n",
        "plt.plot(fpr, tpr, label=f\"XGBoost (AUC = {roc_auc:.2f})\")\n",
        "plt.plot([0, 1], [0, 1], 'k--')\n",
        "plt.xlabel(\"False Positive Rate\")\n",
        "plt.ylabel(\"True Positive Rate\")\n",
        "plt.title(\"ROC Curve (with early stopping)\")\n",
        "plt.legend()\n",
        "plt.show()\n",
        "\n",
        "# Print AUC score for debugging\n",
        "print(f\"ROC AUC Score: {roc_auc:.2f}\")"
      ],
      "metadata": {
        "id": "gSzyKhA0BfR9",
        "outputId": "831ac635-f946-4339-a246-7652704e41c7",
        "colab": {
          "base_uri": "https://localhost:8080/",
          "height": 1000
        }
      },
      "execution_count": 16,
      "outputs": [
        {
          "output_type": "display_data",
          "data": {
            "text/plain": [
              "<Figure size 640x480 with 2 Axes>"
            ],
            "image/png": "[encoded data removed]"
          },
          "metadata": {}
        },
        {
          "output_type": "display_data",
          "data": {
            "text/plain": [
              "<Figure size 800x600 with 1 Axes>"
            ],
            "image/png": "[encoded data removed]"
          },
          "metadata": {}
        },
        {
          "output_type": "stream",
          "name": "stdout",
          "text": [
            "ROC AUC Score: 0.99\n"
          ]
        }
      ]
    },
    {
      "cell_type": "markdown",
      "source": [
        "**Early Stopping made no diffence whatsoever**"
      ],
      "metadata": {
        "id": "50DEecHgB1Sb"
      }
    },
    {
      "cell_type": "code",
      "source": [
        "# Save the trained model with early stopping\n",
        "model_filename = \"xgb_model_with_early_stopping.pkl\"\n",
        "with open(model_filename, \"wb\") as file:\n",
        "    pickle.dump(xgb_model_with_early_stopping, file)\n",
        "\n",
        "print(f\"Model with early stopping saved as {model_filename}\")"
      ],
      "metadata": {
        "id": "dilRscz0A2qM",
        "outputId": "0c98a804-c701-4974-b441-741e2c3dc437",
        "colab": {
          "base_uri": "https://localhost:8080/"
        }
      },
      "execution_count": 17,
      "outputs": [
        {
          "output_type": "stream",
          "name": "stdout",
          "text": [
            "Model with early stopping saved as xgb_model_with_early_stopping.pkl\n"
          ]
        }
      ]
    },
    {
      "cell_type": "markdown",
      "source": [
        "**Early Stopping + Hyper Paramaeter tuning (Using andom search for best parameter combinations)**"
      ],
      "metadata": {
        "id": "VGy7sWhlCr6b"
      }
    },
    {
      "cell_type": "code",
      "source": [
        "# Define the parameter grid for random search\n",
        "param_distributions = {\n",
        "    'learning_rate': [0.01, 0.05, 0.1, 0.2],\n",
        "    'max_depth': [3, 5, 7, 9],\n",
        "    'n_estimators': [50, 100, 200, 300],\n",
        "    'subsample': [0.6, 0.8, 1.0],\n",
        "    'colsample_bytree': [0.6, 0.8, 1.0],\n",
        "    'gamma': [0, 1, 5],\n",
        "}\n",
        "\n",
        "# Define scoring metric\n",
        "scorer = make_scorer(f1_score, average='weighted')  # Adjust metric as needed\n",
        "\n",
        "# Initialize the XGBoost classifier\n",
        "xgb_model = XGBClassifier(\n",
        "    random_state=42,\n",
        "    use_label_encoder=False,\n",
        "    eval_metric='logloss'\n",
        ")\n",
        "\n",
        "# Set up RandomizedSearchCV\n",
        "random_search = RandomizedSearchCV(\n",
        "    estimator=xgb_model,\n",
        "    param_distributions=param_distributions,\n",
        "    n_iter=50,\n",
        "    scoring=scorer,\n",
        "    cv=3,  # 3-fold cross-validation\n",
        "    verbose=2,\n",
        "    random_state=42,\n",
        "    n_jobs=-1,  # Use all available cores\n",
        ")\n",
        "\n",
        "# Perform random search\n",
        "random_search.fit(\n",
        "    X_train_struct, y_train_struct,\n",
        "    eval_set=[(X_val_struct, y_val_struct)],\n",
        "    early_stopping_rounds=10,  # Incorporates early stopping\n",
        "    verbose=True\n",
        ")\n",
        "\n",
        "# Retrieve the best parameters\n",
        "best_params = random_search.best_params_\n",
        "print(\"Best Parameters:\", best_params)\n",
        "\n",
        "# Train the final model with the best parameters\n",
        "final_model = XGBClassifier(**best_params, random_state=42, use_label_encoder=False)\n",
        "final_model.fit(\n",
        "    X_train_struct, y_train_struct,\n",
        "    eval_set=[(X_val_struct, y_val_struct)],\n",
        "    early_stopping_rounds=10,\n",
        "    verbose=True\n",
        ")\n",
        "\n",
        "# Predict probabilities on the test set\n",
        "y_pred_test_tuned = final_model.predict(X_test_struct)\n",
        "y_pred_proba_test_tuned = final_model.predict_proba(X_test_struct)[:, 1]"
      ],
      "metadata": {
        "id": "wcosa37wCG69",
        "outputId": "ddc333c3-a2b5-497a-e490-48f7366909e6",
        "colab": {
          "base_uri": "https://localhost:8080/"
        }
      },
      "execution_count": 18,
      "outputs": [
        {
          "output_type": "stream",
          "name": "stdout",
          "text": [
            "Fitting 3 folds for each of 50 candidates, totalling 150 fits\n"
          ]
        },
        {
          "output_type": "stream",
          "name": "stderr",
          "text": [
            "/usr/local/lib/python3.10/dist-packages/xgboost/sklearn.py:1395: UserWarning: `use_label_encoder` is deprecated in 1.7.0.\n",
            "  warnings.warn(\"`use_label_encoder` is deprecated in 1.7.0.\")\n",
            "/usr/local/lib/python3.10/dist-packages/xgboost/sklearn.py:1395: UserWarning: `use_label_encoder` is deprecated in 1.7.0.\n",
            "  warnings.warn(\"`use_label_encoder` is deprecated in 1.7.0.\")\n",
            "/usr/local/lib/python3.10/dist-packages/xgboost/sklearn.py:1395: UserWarning: `use_label_encoder` is deprecated in 1.7.0.\n",
            "  warnings.warn(\"`use_label_encoder` is deprecated in 1.7.0.\")\n"
          ]
        },
        {
          "output_type": "stream",
          "name": "stdout",
          "text": [
            "[0]\tvalidation_0-logloss:0.65479\n",
            "[1]\tvalidation_0-logloss:0.62483\n",
            "[2]\tvalidation_0-logloss:0.59883\n",
            "[3]\tvalidation_0-logloss:0.57411\n",
            "[4]\tvalidation_0-logloss:0.55481\n"
          ]
        },
        {
          "output_type": "stream",
          "name": "stderr",
          "text": [
            "/usr/local/lib/python3.10/dist-packages/xgboost/sklearn.py:835: UserWarning: `early_stopping_rounds` in `fit` method is deprecated for better compatibility with scikit-learn, use `early_stopping_rounds` in constructor or`set_params` instead.\n",
            "  warnings.warn(\n"
          ]
        },
        {
          "output_type": "stream",
          "name": "stdout",
          "text": [
            "[5]\tvalidation_0-logloss:0.53866\n",
            "[6]\tvalidation_0-logloss:0.52078\n",
            "[7]\tvalidation_0-logloss:0.51103\n",
            "[8]\tvalidation_0-logloss:0.49968\n",
            "[9]\tvalidation_0-logloss:0.48809\n",
            "[10]\tvalidation_0-logloss:0.47911\n",
            "[11]\tvalidation_0-logloss:0.47301\n",
            "[12]\tvalidation_0-logloss:0.46770\n",
            "[13]\tvalidation_0-logloss:0.46031\n",
            "[14]\tvalidation_0-logloss:0.45529\n",
            "[15]\tvalidation_0-logloss:0.44579\n",
            "[16]\tvalidation_0-logloss:0.44153\n",
            "[17]\tvalidation_0-logloss:0.43953\n",
            "[18]\tvalidation_0-logloss:0.43440\n",
            "[19]\tvalidation_0-logloss:0.43086\n",
            "[20]\tvalidation_0-logloss:0.42913\n",
            "[21]\tvalidation_0-logloss:0.42042\n",
            "[22]\tvalidation_0-logloss:0.41846\n",
            "[23]\tvalidation_0-logloss:0.41606\n",
            "[24]\tvalidation_0-logloss:0.40922\n",
            "[25]\tvalidation_0-logloss:0.40243\n",
            "[26]\tvalidation_0-logloss:0.40100\n",
            "[27]\tvalidation_0-logloss:0.39993\n",
            "[28]\tvalidation_0-logloss:0.39353\n",
            "[29]\tvalidation_0-logloss:0.38496\n",
            "[30]\tvalidation_0-logloss:0.38343\n",
            "[31]\tvalidation_0-logloss:0.37983\n",
            "[32]\tvalidation_0-logloss:0.37480\n",
            "[33]\tvalidation_0-logloss:0.37368\n",
            "[34]\tvalidation_0-logloss:0.37320\n",
            "[35]\tvalidation_0-logloss:0.36749\n",
            "[36]\tvalidation_0-logloss:0.36249\n",
            "[37]\tvalidation_0-logloss:0.35741\n",
            "[38]\tvalidation_0-logloss:0.35360\n",
            "[39]\tvalidation_0-logloss:0.35076\n",
            "[40]\tvalidation_0-logloss:0.34996\n",
            "[41]\tvalidation_0-logloss:0.34878\n",
            "[42]\tvalidation_0-logloss:0.34590\n",
            "[43]\tvalidation_0-logloss:0.34297\n",
            "[44]\tvalidation_0-logloss:0.34181\n",
            "[45]\tvalidation_0-logloss:0.34093\n",
            "[46]\tvalidation_0-logloss:0.34006\n",
            "[47]\tvalidation_0-logloss:0.33360\n",
            "[48]\tvalidation_0-logloss:0.33087\n",
            "[49]\tvalidation_0-logloss:0.33045\n",
            "[50]\tvalidation_0-logloss:0.32956\n",
            "[51]\tvalidation_0-logloss:0.32521\n",
            "[52]\tvalidation_0-logloss:0.32466\n",
            "[53]\tvalidation_0-logloss:0.31594\n",
            "[54]\tvalidation_0-logloss:0.31498\n",
            "[55]\tvalidation_0-logloss:0.30988\n",
            "[56]\tvalidation_0-logloss:0.30706\n",
            "[57]\tvalidation_0-logloss:0.30571\n",
            "[58]\tvalidation_0-logloss:0.30503\n",
            "[59]\tvalidation_0-logloss:0.30181\n",
            "[60]\tvalidation_0-logloss:0.29997\n",
            "[61]\tvalidation_0-logloss:0.29800\n",
            "[62]\tvalidation_0-logloss:0.29766\n",
            "[63]\tvalidation_0-logloss:0.29678\n",
            "[64]\tvalidation_0-logloss:0.29625\n",
            "[65]\tvalidation_0-logloss:0.29269\n",
            "[66]\tvalidation_0-logloss:0.28788\n",
            "[67]\tvalidation_0-logloss:0.28393\n",
            "[68]\tvalidation_0-logloss:0.27830\n",
            "[69]\tvalidation_0-logloss:0.27242\n",
            "[70]\tvalidation_0-logloss:0.26828\n",
            "[71]\tvalidation_0-logloss:0.26236\n",
            "[72]\tvalidation_0-logloss:0.25720\n",
            "[73]\tvalidation_0-logloss:0.25632\n",
            "[74]\tvalidation_0-logloss:0.25366\n",
            "[75]\tvalidation_0-logloss:0.24954\n",
            "[76]\tvalidation_0-logloss:0.24926\n",
            "[77]\tvalidation_0-logloss:0.24520\n",
            "[78]\tvalidation_0-logloss:0.24476\n",
            "[79]\tvalidation_0-logloss:0.23999\n",
            "[80]\tvalidation_0-logloss:0.23428\n",
            "[81]\tvalidation_0-logloss:0.23130\n",
            "[82]\tvalidation_0-logloss:0.22731\n",
            "[83]\tvalidation_0-logloss:0.22591\n",
            "[84]\tvalidation_0-logloss:0.22229\n",
            "[85]\tvalidation_0-logloss:0.22028\n",
            "[86]\tvalidation_0-logloss:0.21875\n",
            "[87]\tvalidation_0-logloss:0.21814\n",
            "[88]\tvalidation_0-logloss:0.21459\n",
            "[89]\tvalidation_0-logloss:0.21185\n",
            "[90]\tvalidation_0-logloss:0.20978\n",
            "[91]\tvalidation_0-logloss:0.20598\n",
            "[92]\tvalidation_0-logloss:0.20583\n",
            "[93]\tvalidation_0-logloss:0.20568\n",
            "[94]\tvalidation_0-logloss:0.20505\n",
            "[95]\tvalidation_0-logloss:0.20453\n",
            "[96]\tvalidation_0-logloss:0.20268\n",
            "[97]\tvalidation_0-logloss:0.19904\n",
            "[98]\tvalidation_0-logloss:0.19482\n",
            "[99]\tvalidation_0-logloss:0.19313\n",
            "[100]\tvalidation_0-logloss:0.19141\n",
            "[101]\tvalidation_0-logloss:0.18920\n",
            "[102]\tvalidation_0-logloss:0.18790\n",
            "[103]\tvalidation_0-logloss:0.18604\n",
            "[104]\tvalidation_0-logloss:0.18474\n",
            "[105]\tvalidation_0-logloss:0.18309\n",
            "[106]\tvalidation_0-logloss:0.18212\n",
            "[107]\tvalidation_0-logloss:0.18132\n",
            "[108]\tvalidation_0-logloss:0.18111\n",
            "[109]\tvalidation_0-logloss:0.18092\n",
            "[110]\tvalidation_0-logloss:0.17988\n",
            "[111]\tvalidation_0-logloss:0.17713\n",
            "[112]\tvalidation_0-logloss:0.17495\n",
            "[113]\tvalidation_0-logloss:0.17259\n",
            "[114]\tvalidation_0-logloss:0.17000\n",
            "[115]\tvalidation_0-logloss:0.16767\n",
            "[116]\tvalidation_0-logloss:0.16550\n",
            "[117]\tvalidation_0-logloss:0.16467\n",
            "[118]\tvalidation_0-logloss:0.16024\n",
            "[119]\tvalidation_0-logloss:0.15947\n",
            "[120]\tvalidation_0-logloss:0.15804\n",
            "[121]\tvalidation_0-logloss:0.15770\n",
            "[122]\tvalidation_0-logloss:0.15684\n",
            "[123]\tvalidation_0-logloss:0.15674\n",
            "[124]\tvalidation_0-logloss:0.15636\n",
            "[125]\tvalidation_0-logloss:0.15341\n",
            "[126]\tvalidation_0-logloss:0.15212\n",
            "[127]\tvalidation_0-logloss:0.15135\n",
            "[128]\tvalidation_0-logloss:0.15064\n",
            "[129]\tvalidation_0-logloss:0.15054\n",
            "[130]\tvalidation_0-logloss:0.15006\n",
            "[131]\tvalidation_0-logloss:0.14953\n",
            "[132]\tvalidation_0-logloss:0.14835\n",
            "[133]\tvalidation_0-logloss:0.14638\n",
            "[134]\tvalidation_0-logloss:0.14458\n",
            "[135]\tvalidation_0-logloss:0.14198\n",
            "[136]\tvalidation_0-logloss:0.14125\n",
            "[137]\tvalidation_0-logloss:0.14068\n",
            "[138]\tvalidation_0-logloss:0.13930\n",
            "[139]\tvalidation_0-logloss:0.13885\n",
            "[140]\tvalidation_0-logloss:0.13872\n",
            "[141]\tvalidation_0-logloss:0.13636\n",
            "[142]\tvalidation_0-logloss:0.13502\n",
            "[143]\tvalidation_0-logloss:0.13349\n",
            "[144]\tvalidation_0-logloss:0.13058\n",
            "[145]\tvalidation_0-logloss:0.12910\n",
            "[146]\tvalidation_0-logloss:0.12896\n",
            "[147]\tvalidation_0-logloss:0.12807\n",
            "[148]\tvalidation_0-logloss:0.12559\n",
            "[149]\tvalidation_0-logloss:0.12463\n",
            "[150]\tvalidation_0-logloss:0.12337\n",
            "[151]\tvalidation_0-logloss:0.12132\n",
            "[152]\tvalidation_0-logloss:0.11982\n",
            "[153]\tvalidation_0-logloss:0.11848\n",
            "[154]\tvalidation_0-logloss:0.11758\n",
            "[155]\tvalidation_0-logloss:0.11736\n",
            "[156]\tvalidation_0-logloss:0.11621\n",
            "[157]\tvalidation_0-logloss:0.11616\n",
            "[158]\tvalidation_0-logloss:0.11442\n",
            "[159]\tvalidation_0-logloss:0.11304\n",
            "[160]\tvalidation_0-logloss:0.11273\n",
            "[161]\tvalidation_0-logloss:0.11139\n",
            "[162]\tvalidation_0-logloss:0.11129\n",
            "[163]\tvalidation_0-logloss:0.11118\n",
            "[164]\tvalidation_0-logloss:0.11043\n",
            "[165]\tvalidation_0-logloss:0.10916\n",
            "[166]\tvalidation_0-logloss:0.10824\n",
            "[167]\tvalidation_0-logloss:0.10795\n",
            "[168]\tvalidation_0-logloss:0.10790\n",
            "[169]\tvalidation_0-logloss:0.10700\n",
            "[170]\tvalidation_0-logloss:0.10569\n",
            "[171]\tvalidation_0-logloss:0.10460\n",
            "[172]\tvalidation_0-logloss:0.10364\n",
            "[173]\tvalidation_0-logloss:0.10271\n",
            "[174]\tvalidation_0-logloss:0.10258\n",
            "[175]\tvalidation_0-logloss:0.10234\n",
            "[176]\tvalidation_0-logloss:0.10164\n",
            "[177]\tvalidation_0-logloss:0.10067\n",
            "[178]\tvalidation_0-logloss:0.09928\n",
            "[179]\tvalidation_0-logloss:0.09807\n",
            "[180]\tvalidation_0-logloss:0.09726\n",
            "[181]\tvalidation_0-logloss:0.09688\n",
            "[182]\tvalidation_0-logloss:0.09682\n",
            "[183]\tvalidation_0-logloss:0.09615\n",
            "[184]\tvalidation_0-logloss:0.09526\n",
            "[185]\tvalidation_0-logloss:0.09384\n",
            "[186]\tvalidation_0-logloss:0.09259\n",
            "[187]\tvalidation_0-logloss:0.09216\n",
            "[188]\tvalidation_0-logloss:0.09140\n",
            "[189]\tvalidation_0-logloss:0.08933\n",
            "[190]\tvalidation_0-logloss:0.08833\n",
            "[191]\tvalidation_0-logloss:0.08699\n",
            "[192]\tvalidation_0-logloss:0.08674\n",
            "[193]\tvalidation_0-logloss:0.08579\n",
            "[194]\tvalidation_0-logloss:0.08528\n",
            "[195]\tvalidation_0-logloss:0.08523\n",
            "[196]\tvalidation_0-logloss:0.08455\n",
            "[197]\tvalidation_0-logloss:0.08421\n",
            "[198]\tvalidation_0-logloss:0.08338\n",
            "[199]\tvalidation_0-logloss:0.08295\n",
            "Best Parameters: {'subsample': 1.0, 'n_estimators': 200, 'max_depth': 9, 'learning_rate': 0.2, 'gamma': 0, 'colsample_bytree': 1.0}\n",
            "[0]\tvalidation_0-logloss:0.65479\n",
            "[1]\tvalidation_0-logloss:0.62483\n",
            "[2]\tvalidation_0-logloss:0.59883\n",
            "[3]\tvalidation_0-logloss:0.57411\n",
            "[4]\tvalidation_0-logloss:0.55481\n",
            "[5]\tvalidation_0-logloss:0.53866\n",
            "[6]\tvalidation_0-logloss:0.52078\n",
            "[7]\tvalidation_0-logloss:0.51103\n",
            "[8]\tvalidation_0-logloss:0.49968\n",
            "[9]\tvalidation_0-logloss:0.48809\n",
            "[10]\tvalidation_0-logloss:0.47911\n",
            "[11]\tvalidation_0-logloss:0.47301\n",
            "[12]\tvalidation_0-logloss:0.46770\n",
            "[13]\tvalidation_0-logloss:0.46031\n",
            "[14]\tvalidation_0-logloss:0.45529\n",
            "[15]\tvalidation_0-logloss:0.44579\n",
            "[16]\tvalidation_0-logloss:0.44153\n",
            "[17]\tvalidation_0-logloss:0.43953\n",
            "[18]\tvalidation_0-logloss:0.43440\n",
            "[19]\tvalidation_0-logloss:0.43086\n",
            "[20]\tvalidation_0-logloss:0.42913\n",
            "[21]\tvalidation_0-logloss:0.42042\n",
            "[22]\tvalidation_0-logloss:0.41846\n",
            "[23]\tvalidation_0-logloss:0.41606\n",
            "[24]\tvalidation_0-logloss:0.40922\n",
            "[25]\tvalidation_0-logloss:0.40243\n",
            "[26]\tvalidation_0-logloss:0.40100\n",
            "[27]\tvalidation_0-logloss:0.39993\n",
            "[28]\tvalidation_0-logloss:0.39353\n",
            "[29]\tvalidation_0-logloss:0.38496\n",
            "[30]\tvalidation_0-logloss:0.38343\n",
            "[31]\tvalidation_0-logloss:0.37983\n",
            "[32]\tvalidation_0-logloss:0.37480\n",
            "[33]\tvalidation_0-logloss:0.37368\n",
            "[34]\tvalidation_0-logloss:0.37320\n",
            "[35]\tvalidation_0-logloss:0.36749\n",
            "[36]\tvalidation_0-logloss:0.36249\n",
            "[37]\tvalidation_0-logloss:0.35741\n",
            "[38]\tvalidation_0-logloss:0.35360\n",
            "[39]\tvalidation_0-logloss:0.35076\n",
            "[40]\tvalidation_0-logloss:0.34996\n",
            "[41]\tvalidation_0-logloss:0.34878\n",
            "[42]\tvalidation_0-logloss:0.34590\n",
            "[43]\tvalidation_0-logloss:0.34297\n",
            "[44]\tvalidation_0-logloss:0.34181\n",
            "[45]\tvalidation_0-logloss:0.34093\n",
            "[46]\tvalidation_0-logloss:0.34006\n",
            "[47]\tvalidation_0-logloss:0.33360\n",
            "[48]\tvalidation_0-logloss:0.33087\n",
            "[49]\tvalidation_0-logloss:0.33045\n",
            "[50]\tvalidation_0-logloss:0.32956\n",
            "[51]\tvalidation_0-logloss:0.32521\n",
            "[52]\tvalidation_0-logloss:0.32466\n",
            "[53]\tvalidation_0-logloss:0.31594\n",
            "[54]\tvalidation_0-logloss:0.31498\n",
            "[55]\tvalidation_0-logloss:0.30988\n",
            "[56]\tvalidation_0-logloss:0.30706\n",
            "[57]\tvalidation_0-logloss:0.30571\n",
            "[58]\tvalidation_0-logloss:0.30503\n",
            "[59]\tvalidation_0-logloss:0.30181\n",
            "[60]\tvalidation_0-logloss:0.29997\n",
            "[61]\tvalidation_0-logloss:0.29800\n",
            "[62]\tvalidation_0-logloss:0.29766\n",
            "[63]\tvalidation_0-logloss:0.29678\n",
            "[64]\tvalidation_0-logloss:0.29625\n",
            "[65]\tvalidation_0-logloss:0.29269\n",
            "[66]\tvalidation_0-logloss:0.28788\n",
            "[67]\tvalidation_0-logloss:0.28393\n",
            "[68]\tvalidation_0-logloss:0.27830\n",
            "[69]\tvalidation_0-logloss:0.27242\n",
            "[70]\tvalidation_0-logloss:0.26828\n",
            "[71]\tvalidation_0-logloss:0.26236\n",
            "[72]\tvalidation_0-logloss:0.25720\n",
            "[73]\tvalidation_0-logloss:0.25632\n",
            "[74]\tvalidation_0-logloss:0.25366\n",
            "[75]\tvalidation_0-logloss:0.24954\n",
            "[76]\tvalidation_0-logloss:0.24926\n",
            "[77]\tvalidation_0-logloss:0.24520\n",
            "[78]\tvalidation_0-logloss:0.24476\n",
            "[79]\tvalidation_0-logloss:0.23999\n",
            "[80]\tvalidation_0-logloss:0.23428\n",
            "[81]\tvalidation_0-logloss:0.23130\n",
            "[82]\tvalidation_0-logloss:0.22731\n",
            "[83]\tvalidation_0-logloss:0.22591\n",
            "[84]\tvalidation_0-logloss:0.22229\n",
            "[85]\tvalidation_0-logloss:0.22028\n",
            "[86]\tvalidation_0-logloss:0.21875\n",
            "[87]\tvalidation_0-logloss:0.21814\n",
            "[88]\tvalidation_0-logloss:0.21459\n",
            "[89]\tvalidation_0-logloss:0.21185\n",
            "[90]\tvalidation_0-logloss:0.20978\n",
            "[91]\tvalidation_0-logloss:0.20598\n",
            "[92]\tvalidation_0-logloss:0.20583\n",
            "[93]\tvalidation_0-logloss:0.20568\n",
            "[94]\tvalidation_0-logloss:0.20505\n",
            "[95]\tvalidation_0-logloss:0.20453\n",
            "[96]\tvalidation_0-logloss:0.20268\n",
            "[97]\tvalidation_0-logloss:0.19904\n",
            "[98]\tvalidation_0-logloss:0.19482\n",
            "[99]\tvalidation_0-logloss:0.19313\n",
            "[100]\tvalidation_0-logloss:0.19141\n",
            "[101]\tvalidation_0-logloss:0.18920\n",
            "[102]\tvalidation_0-logloss:0.18790\n",
            "[103]\tvalidation_0-logloss:0.18604\n",
            "[104]\tvalidation_0-logloss:0.18474\n",
            "[105]\tvalidation_0-logloss:0.18309\n",
            "[106]\tvalidation_0-logloss:0.18212\n",
            "[107]\tvalidation_0-logloss:0.18132\n",
            "[108]\tvalidation_0-logloss:0.18111\n",
            "[109]\tvalidation_0-logloss:0.18092\n",
            "[110]\tvalidation_0-logloss:0.17988\n",
            "[111]\tvalidation_0-logloss:0.17713\n",
            "[112]\tvalidation_0-logloss:0.17495\n",
            "[113]\tvalidation_0-logloss:0.17259\n",
            "[114]\tvalidation_0-logloss:0.17000\n",
            "[115]\tvalidation_0-logloss:0.16767\n",
            "[116]\tvalidation_0-logloss:0.16550\n",
            "[117]\tvalidation_0-logloss:0.16467\n",
            "[118]\tvalidation_0-logloss:0.16024\n",
            "[119]\tvalidation_0-logloss:0.15947\n",
            "[120]\tvalidation_0-logloss:0.15804\n",
            "[121]\tvalidation_0-logloss:0.15770\n",
            "[122]\tvalidation_0-logloss:0.15684\n",
            "[123]\tvalidation_0-logloss:0.15674\n",
            "[124]\tvalidation_0-logloss:0.15636\n",
            "[125]\tvalidation_0-logloss:0.15341\n",
            "[126]\tvalidation_0-logloss:0.15212\n",
            "[127]\tvalidation_0-logloss:0.15135\n",
            "[128]\tvalidation_0-logloss:0.15064\n",
            "[129]\tvalidation_0-logloss:0.15054\n",
            "[130]\tvalidation_0-logloss:0.15006\n",
            "[131]\tvalidation_0-logloss:0.14953\n",
            "[132]\tvalidation_0-logloss:0.14835\n",
            "[133]\tvalidation_0-logloss:0.14638\n",
            "[134]\tvalidation_0-logloss:0.14458\n",
            "[135]\tvalidation_0-logloss:0.14198\n",
            "[136]\tvalidation_0-logloss:0.14125\n",
            "[137]\tvalidation_0-logloss:0.14068\n",
            "[138]\tvalidation_0-logloss:0.13930\n",
            "[139]\tvalidation_0-logloss:0.13885\n",
            "[140]\tvalidation_0-logloss:0.13872\n",
            "[141]\tvalidation_0-logloss:0.13636\n",
            "[142]\tvalidation_0-logloss:0.13502\n",
            "[143]\tvalidation_0-logloss:0.13349\n",
            "[144]\tvalidation_0-logloss:0.13058\n",
            "[145]\tvalidation_0-logloss:0.12910\n",
            "[146]\tvalidation_0-logloss:0.12896\n",
            "[147]\tvalidation_0-logloss:0.12807\n",
            "[148]\tvalidation_0-logloss:0.12559\n",
            "[149]\tvalidation_0-logloss:0.12463\n",
            "[150]\tvalidation_0-logloss:0.12337\n",
            "[151]\tvalidation_0-logloss:0.12132\n",
            "[152]\tvalidation_0-logloss:0.11982\n",
            "[153]\tvalidation_0-logloss:0.11848\n",
            "[154]\tvalidation_0-logloss:0.11758\n",
            "[155]\tvalidation_0-logloss:0.11736\n",
            "[156]\tvalidation_0-logloss:0.11621\n",
            "[157]\tvalidation_0-logloss:0.11616\n",
            "[158]\tvalidation_0-logloss:0.11442\n",
            "[159]\tvalidation_0-logloss:0.11304\n",
            "[160]\tvalidation_0-logloss:0.11273\n",
            "[161]\tvalidation_0-logloss:0.11139\n",
            "[162]\tvalidation_0-logloss:0.11129\n",
            "[163]\tvalidation_0-logloss:0.11118\n",
            "[164]\tvalidation_0-logloss:0.11043\n",
            "[165]\tvalidation_0-logloss:0.10916\n",
            "[166]\tvalidation_0-logloss:0.10824\n",
            "[167]\tvalidation_0-logloss:0.10795\n",
            "[168]\tvalidation_0-logloss:0.10790\n",
            "[169]\tvalidation_0-logloss:0.10700\n",
            "[170]\tvalidation_0-logloss:0.10569\n",
            "[171]\tvalidation_0-logloss:0.10460\n",
            "[172]\tvalidation_0-logloss:0.10364\n",
            "[173]\tvalidation_0-logloss:0.10271\n",
            "[174]\tvalidation_0-logloss:0.10258\n",
            "[175]\tvalidation_0-logloss:0.10234\n",
            "[176]\tvalidation_0-logloss:0.10164\n",
            "[177]\tvalidation_0-logloss:0.10067\n",
            "[178]\tvalidation_0-logloss:0.09928\n",
            "[179]\tvalidation_0-logloss:0.09807\n",
            "[180]\tvalidation_0-logloss:0.09726\n",
            "[181]\tvalidation_0-logloss:0.09688\n",
            "[182]\tvalidation_0-logloss:0.09682\n",
            "[183]\tvalidation_0-logloss:0.09615\n",
            "[184]\tvalidation_0-logloss:0.09526\n",
            "[185]\tvalidation_0-logloss:0.09384\n",
            "[186]\tvalidation_0-logloss:0.09259\n",
            "[187]\tvalidation_0-logloss:0.09216\n",
            "[188]\tvalidation_0-logloss:0.09140\n",
            "[189]\tvalidation_0-logloss:0.08933\n",
            "[190]\tvalidation_0-logloss:0.08833\n",
            "[191]\tvalidation_0-logloss:0.08699\n",
            "[192]\tvalidation_0-logloss:0.08674\n",
            "[193]\tvalidation_0-logloss:0.08579\n",
            "[194]\tvalidation_0-logloss:0.08528\n",
            "[195]\tvalidation_0-logloss:0.08523\n",
            "[196]\tvalidation_0-logloss:0.08455\n",
            "[197]\tvalidation_0-logloss:0.08421\n",
            "[198]\tvalidation_0-logloss:0.08338\n",
            "[199]\tvalidation_0-logloss:0.08295\n"
          ]
        }
      ]
    },
    {
      "cell_type": "code",
      "source": [
        "# Print classification report\n",
        "from sklearn.metrics import classification_report\n",
        "print(\"Classification Report (Tuned XGBoost):\")\n",
        "print(classification_report(y_test_struct, y_pred_test_tuned))"
      ],
      "metadata": {
        "id": "TP1uQM54Ci2c",
        "outputId": "3e54d238-095a-466e-cf43-8b812120eeb2",
        "colab": {
          "base_uri": "https://localhost:8080/"
        }
      },
      "execution_count": 20,
      "outputs": [
        {
          "output_type": "stream",
          "name": "stdout",
          "text": [
            "Classification Report (Tuned XGBoost):\n",
            "              precision    recall  f1-score   support\n",
            "\n",
            "           0       1.00      1.00      1.00     10776\n",
            "           1       1.00      1.00      1.00     12430\n",
            "\n",
            "    accuracy                           1.00     23206\n",
            "   macro avg       1.00      1.00      1.00     23206\n",
            "weighted avg       1.00      1.00      1.00     23206\n",
            "\n"
          ]
        }
      ]
    },
    {
      "cell_type": "markdown",
      "source": [
        "**Ok this is textbook overfit. We are just going to use XGBoost wihtout hyper parameter tuning to combine with LSTM**"
      ],
      "metadata": {
        "id": "AshYj71UDJTN"
      }
    },
    {
      "cell_type": "markdown",
      "source": [
        "# **Preprocessing Sequential Data for LSTM**"
      ],
      "metadata": {
        "id": "2CPNCE2HwXa9"
      }
    },
    {
      "cell_type": "code",
      "source": [
        "# Load SPY + sentiment data and economic data\n",
        "merged_data = pd.read_csv('merged_spy_sentiment.csv', parse_dates=['date'], index_col='date')\n",
        "economic_data = pd.read_csv('economic_data.csv', parse_dates=['Date'], index_col='Date')\n",
        "\n",
        "# Merge economic data with SPY + sentiment data\n",
        "merged_data = merged_data.join(economic_data, how='inner')  # Join on the index (dates)\n",
        "\n",
        "# Sequential features (including economic indicators)\n",
        "sequential_features = ['Close', 'compound', 'Unemployment Rate', 'Fed Funds Rate']\n",
        "\n",
        "# Check for missing values after merging\n",
        "merged_data = merged_data.dropna(subset=sequential_features)  # Drop rows with missing sequential features\n",
        "\n",
        "# Sequential data (features for LSTM)\n",
        "sequential_data = merged_data[sequential_features]\n",
        "\n",
        "# Define sequence length\n",
        "sequence_length = 10  # Look back 10 days\n",
        "\n",
        "# Create sequences\n",
        "def create_sequences(data, seq_length):\n",
        "    X, y = [], []\n",
        "    for i in range(len(data) - seq_length):\n",
        "        X.append(data.iloc[i:i + seq_length].values)  # Extract sequences of features\n",
        "        y.append(merged_data.iloc[i + seq_length]['Return_1D'])  # Target is at the end of each sequence\n",
        "    return np.array(X), np.array(y)\n",
        "\n",
        "# Generate sequences\n",
        "X_seq, y_seq = create_sequences(sequential_data, sequence_length)\n",
        "\n",
        "# Convert target variable to binary classification (increase = 1, no increase = 0)\n",
        "y_seq = (y_seq > 0).astype(int)\n",
        "\n",
        "# Normalize sequential features\n",
        "scaler = MinMaxScaler()\n",
        "X_seq = scaler.fit_transform(X_seq.reshape(-1, X_seq.shape[-1])).reshape(X_seq.shape)"
      ],
      "metadata": {
        "id": "XrU5AiIV0V_2"
      },
      "execution_count": 21,
      "outputs": []
    },
    {
      "cell_type": "code",
      "source": [
        "# First, split the data into training+validation and testing\n",
        "X_train_val_seq, X_test_seq, y_train_val_seq, y_test_seq = train_test_split(\n",
        "    X_seq, y_seq, test_size=0.2, random_state=42\n",
        ")\n",
        "\n",
        "# Then, split the training+validation into separate training and validation sets\n",
        "X_train_seq, X_val_seq, y_train_seq, y_val_seq = train_test_split(\n",
        "    X_train_val_seq, y_train_val_seq, test_size=0.2, random_state=42\n",
        ")\n",
        "\n",
        "print(f\"X_train_seq shape: {X_train_seq.shape}, X_val_seq shape: {X_val_seq.shape}, X_test_seq shape: {X_test_seq.shape}\")\n",
        "print(f\"y_train_seq shape: {y_train_seq.shape}, y_val_seq shape: {y_val_seq.shape}, y_test_seq shape: {y_test_seq.shape}\")"
      ],
      "metadata": {
        "id": "QOlSdWHm2PEO",
        "outputId": "0a566e50-2ef6-4170-d7bc-b23bd7818367",
        "colab": {
          "base_uri": "https://localhost:8080/"
        }
      },
      "execution_count": 22,
      "outputs": [
        {
          "output_type": "stream",
          "name": "stdout",
          "text": [
            "X_train_seq shape: (3096, 10, 4), X_val_seq shape: (774, 10, 4), X_test_seq shape: (968, 10, 4)\n",
            "y_train_seq shape: (3096,), y_val_seq shape: (774,), y_test_seq shape: (968,)\n"
          ]
        }
      ]
    },
    {
      "cell_type": "markdown",
      "source": [
        "# **Combining XGBoost (just the Untuned version) and LSTM Features**"
      ],
      "metadata": {
        "id": "NWC18SN2wU5I"
      }
    },
    {
      "cell_type": "code",
      "source": [
        "# Expand XGBoost features to match the sequence length\n",
        "xgb_features_train_expanded = np.repeat(xgb_features_train[:len(X_train_seq)].reshape(-1, 1, 1), X_train_seq.shape[1], axis=1)\n",
        "xgb_features_val_expanded = np.repeat(xgb_features_val[:len(X_val_seq)].reshape(-1, 1, 1), X_val_seq.shape[1], axis=1)\n",
        "xgb_features_test_expanded = np.repeat(xgb_features_test[:len(X_test_seq)].reshape(-1, 1, 1), X_test_seq.shape[1], axis=1)\n",
        "\n",
        "# Add XGBoost probabilities as an additional feature to the sequential model\n",
        "X_train_combined = np.concatenate([X_train_seq, xgb_features_train_expanded], axis=2)\n",
        "X_val_combined = np.concatenate([X_val_seq, xgb_features_val_expanded], axis=2)\n",
        "X_test_combined = np.concatenate([X_test_seq, xgb_features_test_expanded], axis=2)\n",
        "\n",
        "print(f\"X_train_combined shape: {X_train_combined.shape}\")\n",
        "print(f\"X_val_combined shape: {X_val_combined.shape}\")\n",
        "print(f\"X_test_combined shape: {X_test_combined.shape}\")"
      ],
      "metadata": {
        "id": "1B15AHgkwLWO",
        "outputId": "1ca055a5-81a3-47de-a764-7a8b931a6fd3",
        "colab": {
          "base_uri": "https://localhost:8080/"
        }
      },
      "execution_count": 23,
      "outputs": [
        {
          "output_type": "stream",
          "name": "stdout",
          "text": [
            "X_train_combined shape: (3096, 10, 5)\n",
            "X_val_combined shape: (774, 10, 5)\n",
            "X_test_combined shape: (968, 10, 5)\n"
          ]
        }
      ]
    },
    {
      "cell_type": "code",
      "source": [
        "def create_lstm_model(input_shape):\n",
        "    model = tf.keras.Sequential([\n",
        "        tf.keras.layers.LSTM(64, return_sequences=True, input_shape=input_shape),\n",
        "        tf.keras.layers.LSTM(32),\n",
        "        tf.keras.layers.Dense(16, activation='relu'),\n",
        "        tf.keras.layers.Dense(1, activation='sigmoid')  # Binary classification\n",
        "    ])\n",
        "    model.compile(optimizer='adam', loss='binary_crossentropy', metrics=['accuracy'])\n",
        "    return model\n",
        "\n",
        "\n",
        "# Define the updated LSTM model\n",
        "input_shape = (X_train_combined.shape[1], X_train_combined.shape[2])  # Updated input shape\n",
        "lstm_model_combined = create_lstm_model(input_shape)\n",
        "\n",
        "# Set up early stopping\n",
        "early_stopping = tf.keras.callbacks.EarlyStopping(\n",
        "    monitor='val_loss',\n",
        "    patience=5,\n",
        "    restore_best_weights=True\n",
        ")\n",
        "\n",
        "# Train the combined model\n",
        "history_combined = lstm_model_combined.fit(\n",
        "    X_train_combined, y_train_seq,\n",
        "    validation_data=(X_val_combined, y_val_seq),\n",
        "    epochs=50,\n",
        "    batch_size=32,\n",
        "    callbacks=[early_stopping],\n",
        "    verbose=1\n",
        ")\n",
        "\n",
        "# Evaluate the combined model on the test set\n",
        "test_loss_combined, test_accuracy_combined = lstm_model_combined.evaluate(X_test_combined, y_test_seq, verbose=1)\n",
        "print(f\"Test Loss (combined): {test_loss_combined}, Test Accuracy (combined): {test_accuracy_combined}\")\n",
        "\n",
        "# Predict on the test set with the combined model\n",
        "y_pred_prob_combined = lstm_model_combined.predict(X_test_combined).flatten()\n",
        "y_pred_combined = (y_pred_prob_combined > 0.5).astype(int)\n"
      ],
      "metadata": {
        "id": "nsY91eGzwLZW",
        "outputId": "d9646048-1c93-451b-84d4-ae818231e754",
        "colab": {
          "base_uri": "https://localhost:8080/"
        }
      },
      "execution_count": 24,
      "outputs": [
        {
          "output_type": "stream",
          "name": "stderr",
          "text": [
            "/usr/local/lib/python3.10/dist-packages/keras/src/layers/rnn/rnn.py:204: UserWarning: Do not pass an `input_shape`/`input_dim` argument to a layer. When using Sequential models, prefer using an `Input(shape)` object as the first layer in the model instead.\n",
            "  super().__init__(**kwargs)\n"
          ]
        },
        {
          "output_type": "stream",
          "name": "stdout",
          "text": [
            "Epoch 1/50\n",
            "\u001b[1m97/97\u001b[0m \u001b[32m━━━━━━━━━━━━━━━━━━━━\u001b[0m\u001b[37m\u001b[0m \u001b[1m4s\u001b[0m 9ms/step - accuracy: 0.6128 - loss: 0.6696 - val_accuracy: 0.6576 - val_loss: 0.6330\n",
            "Epoch 2/50\n",
            "\u001b[1m97/97\u001b[0m \u001b[32m━━━━━━━━━━━━━━━━━━━━\u001b[0m\u001b[37m\u001b[0m \u001b[1m1s\u001b[0m 6ms/step - accuracy: 0.6264 - loss: 0.6547 - val_accuracy: 0.6886 - val_loss: 0.6145\n",
            "Epoch 3/50\n",
            "\u001b[1m97/97\u001b[0m \u001b[32m━━━━━━━━━━━━━━━━━━━━\u001b[0m\u001b[37m\u001b[0m \u001b[1m1s\u001b[0m 6ms/step - accuracy: 0.6377 - loss: 0.6397 - val_accuracy: 0.6951 - val_loss: 0.5958\n",
            "Epoch 4/50\n",
            "\u001b[1m97/97\u001b[0m \u001b[32m━━━━━━━━━━━━━━━━━━━━\u001b[0m\u001b[37m\u001b[0m \u001b[1m1s\u001b[0m 6ms/step - accuracy: 0.6505 - loss: 0.6163 - val_accuracy: 0.6951 - val_loss: 0.6055\n",
            "Epoch 5/50\n",
            "\u001b[1m97/97\u001b[0m \u001b[32m━━━━━━━━━━━━━━━━━━━━\u001b[0m\u001b[37m\u001b[0m \u001b[1m1s\u001b[0m 6ms/step - accuracy: 0.6392 - loss: 0.6311 - val_accuracy: 0.6860 - val_loss: 0.5920\n",
            "Epoch 6/50\n",
            "\u001b[1m97/97\u001b[0m \u001b[32m━━━━━━━━━━━━━━━━━━━━\u001b[0m\u001b[37m\u001b[0m \u001b[1m1s\u001b[0m 6ms/step - accuracy: 0.6732 - loss: 0.6029 - val_accuracy: 0.6964 - val_loss: 0.5845\n",
            "Epoch 7/50\n",
            "\u001b[1m97/97\u001b[0m \u001b[32m━━━━━━━━━━━━━━━━━━━━\u001b[0m\u001b[37m\u001b[0m \u001b[1m1s\u001b[0m 6ms/step - accuracy: 0.6485 - loss: 0.6151 - val_accuracy: 0.6977 - val_loss: 0.5934\n",
            "Epoch 8/50\n",
            "\u001b[1m97/97\u001b[0m \u001b[32m━━━━━━━━━━━━━━━━━━━━\u001b[0m\u001b[37m\u001b[0m \u001b[1m1s\u001b[0m 6ms/step - accuracy: 0.6550 - loss: 0.6023 - val_accuracy: 0.7016 - val_loss: 0.5800\n",
            "Epoch 9/50\n",
            "\u001b[1m97/97\u001b[0m \u001b[32m━━━━━━━━━━━━━━━━━━━━\u001b[0m\u001b[37m\u001b[0m \u001b[1m1s\u001b[0m 6ms/step - accuracy: 0.6736 - loss: 0.5944 - val_accuracy: 0.6899 - val_loss: 0.5822\n",
            "Epoch 10/50\n",
            "\u001b[1m97/97\u001b[0m \u001b[32m━━━━━━━━━━━━━━━━━━━━\u001b[0m\u001b[37m\u001b[0m \u001b[1m1s\u001b[0m 6ms/step - accuracy: 0.6683 - loss: 0.5953 - val_accuracy: 0.6912 - val_loss: 0.5837\n",
            "Epoch 11/50\n",
            "\u001b[1m97/97\u001b[0m \u001b[32m━━━━━━━━━━━━━━━━━━━━\u001b[0m\u001b[37m\u001b[0m \u001b[1m1s\u001b[0m 6ms/step - accuracy: 0.6675 - loss: 0.6033 - val_accuracy: 0.6602 - val_loss: 0.6010\n",
            "Epoch 12/50\n",
            "\u001b[1m97/97\u001b[0m \u001b[32m━━━━━━━━━━━━━━━━━━━━\u001b[0m\u001b[37m\u001b[0m \u001b[1m1s\u001b[0m 7ms/step - accuracy: 0.6656 - loss: 0.5938 - val_accuracy: 0.6951 - val_loss: 0.5747\n",
            "Epoch 13/50\n",
            "\u001b[1m97/97\u001b[0m \u001b[32m━━━━━━━━━━━━━━━━━━━━\u001b[0m\u001b[37m\u001b[0m \u001b[1m1s\u001b[0m 7ms/step - accuracy: 0.6883 - loss: 0.5744 - val_accuracy: 0.7132 - val_loss: 0.5845\n",
            "Epoch 14/50\n",
            "\u001b[1m97/97\u001b[0m \u001b[32m━━━━━━━━━━━━━━━━━━━━\u001b[0m\u001b[37m\u001b[0m \u001b[1m1s\u001b[0m 7ms/step - accuracy: 0.6787 - loss: 0.5892 - val_accuracy: 0.7003 - val_loss: 0.5796\n",
            "Epoch 15/50\n",
            "\u001b[1m97/97\u001b[0m \u001b[32m━━━━━━━━━━━━━━━━━━━━\u001b[0m\u001b[37m\u001b[0m \u001b[1m1s\u001b[0m 7ms/step - accuracy: 0.6775 - loss: 0.5831 - val_accuracy: 0.6848 - val_loss: 0.5730\n",
            "Epoch 16/50\n",
            "\u001b[1m97/97\u001b[0m \u001b[32m━━━━━━━━━━━━━━━━━━━━\u001b[0m\u001b[37m\u001b[0m \u001b[1m1s\u001b[0m 7ms/step - accuracy: 0.6824 - loss: 0.5832 - val_accuracy: 0.7016 - val_loss: 0.5718\n",
            "Epoch 17/50\n",
            "\u001b[1m97/97\u001b[0m \u001b[32m━━━━━━━━━━━━━━━━━━━━\u001b[0m\u001b[37m\u001b[0m \u001b[1m1s\u001b[0m 6ms/step - accuracy: 0.6993 - loss: 0.5791 - val_accuracy: 0.6951 - val_loss: 0.5815\n",
            "Epoch 18/50\n",
            "\u001b[1m97/97\u001b[0m \u001b[32m━━━━━━━━━━━━━━━━━━━━\u001b[0m\u001b[37m\u001b[0m \u001b[1m1s\u001b[0m 6ms/step - accuracy: 0.6819 - loss: 0.5730 - val_accuracy: 0.6860 - val_loss: 0.5750\n",
            "Epoch 19/50\n",
            "\u001b[1m97/97\u001b[0m \u001b[32m━━━━━━━━━━━━━━━━━━━━\u001b[0m\u001b[37m\u001b[0m \u001b[1m1s\u001b[0m 6ms/step - accuracy: 0.6981 - loss: 0.5614 - val_accuracy: 0.6615 - val_loss: 0.5880\n",
            "Epoch 20/50\n",
            "\u001b[1m97/97\u001b[0m \u001b[32m━━━━━━━━━━━━━━━━━━━━\u001b[0m\u001b[37m\u001b[0m \u001b[1m1s\u001b[0m 6ms/step - accuracy: 0.6611 - loss: 0.5960 - val_accuracy: 0.6977 - val_loss: 0.5620\n",
            "Epoch 21/50\n",
            "\u001b[1m97/97\u001b[0m \u001b[32m━━━━━━━━━━━━━━━━━━━━\u001b[0m\u001b[37m\u001b[0m \u001b[1m1s\u001b[0m 6ms/step - accuracy: 0.6829 - loss: 0.5707 - val_accuracy: 0.7016 - val_loss: 0.5756\n",
            "Epoch 22/50\n",
            "\u001b[1m97/97\u001b[0m \u001b[32m━━━━━━━━━━━━━━━━━━━━\u001b[0m\u001b[37m\u001b[0m \u001b[1m1s\u001b[0m 6ms/step - accuracy: 0.6704 - loss: 0.5754 - val_accuracy: 0.7016 - val_loss: 0.5682\n",
            "Epoch 23/50\n",
            "\u001b[1m97/97\u001b[0m \u001b[32m━━━━━━━━━━━━━━━━━━━━\u001b[0m\u001b[37m\u001b[0m \u001b[1m1s\u001b[0m 6ms/step - accuracy: 0.6920 - loss: 0.5794 - val_accuracy: 0.6796 - val_loss: 0.5661\n",
            "Epoch 24/50\n",
            "\u001b[1m97/97\u001b[0m \u001b[32m━━━━━━━━━━━━━━━━━━━━\u001b[0m\u001b[37m\u001b[0m \u001b[1m1s\u001b[0m 6ms/step - accuracy: 0.6748 - loss: 0.5684 - val_accuracy: 0.6977 - val_loss: 0.5413\n",
            "Epoch 25/50\n",
            "\u001b[1m97/97\u001b[0m \u001b[32m━━━━━━━━━━━━━━━━━━━━\u001b[0m\u001b[37m\u001b[0m \u001b[1m1s\u001b[0m 6ms/step - accuracy: 0.6877 - loss: 0.5510 - val_accuracy: 0.7016 - val_loss: 0.5541\n",
            "Epoch 26/50\n",
            "\u001b[1m97/97\u001b[0m \u001b[32m━━━━━━━━━━━━━━━━━━━━\u001b[0m\u001b[37m\u001b[0m \u001b[1m1s\u001b[0m 7ms/step - accuracy: 0.6743 - loss: 0.5633 - val_accuracy: 0.7171 - val_loss: 0.5360\n",
            "Epoch 27/50\n",
            "\u001b[1m97/97\u001b[0m \u001b[32m━━━━━━━━━━━━━━━━━━━━\u001b[0m\u001b[37m\u001b[0m \u001b[1m1s\u001b[0m 8ms/step - accuracy: 0.6895 - loss: 0.5592 - val_accuracy: 0.7041 - val_loss: 0.5521\n",
            "Epoch 28/50\n",
            "\u001b[1m97/97\u001b[0m \u001b[32m━━━━━━━━━━━━━━━━━━━━\u001b[0m\u001b[37m\u001b[0m \u001b[1m1s\u001b[0m 8ms/step - accuracy: 0.7012 - loss: 0.5413 - val_accuracy: 0.7016 - val_loss: 0.5581\n",
            "Epoch 29/50\n",
            "\u001b[1m97/97\u001b[0m \u001b[32m━━━━━━━━━━━━━━━━━━━━\u001b[0m\u001b[37m\u001b[0m \u001b[1m1s\u001b[0m 8ms/step - accuracy: 0.6958 - loss: 0.5420 - val_accuracy: 0.7416 - val_loss: 0.5262\n",
            "Epoch 30/50\n",
            "\u001b[1m97/97\u001b[0m \u001b[32m━━━━━━━━━━━━━━━━━━━━\u001b[0m\u001b[37m\u001b[0m \u001b[1m1s\u001b[0m 7ms/step - accuracy: 0.7098 - loss: 0.5375 - val_accuracy: 0.7209 - val_loss: 0.5397\n",
            "Epoch 31/50\n",
            "\u001b[1m97/97\u001b[0m \u001b[32m━━━━━━━━━━━━━━━━━━━━\u001b[0m\u001b[37m\u001b[0m \u001b[1m1s\u001b[0m 8ms/step - accuracy: 0.7251 - loss: 0.5291 - val_accuracy: 0.7028 - val_loss: 0.5302\n",
            "Epoch 32/50\n",
            "\u001b[1m97/97\u001b[0m \u001b[32m━━━━━━━━━━━━━━━━━━━━\u001b[0m\u001b[37m\u001b[0m \u001b[1m1s\u001b[0m 7ms/step - accuracy: 0.6911 - loss: 0.5270 - val_accuracy: 0.7455 - val_loss: 0.5117\n",
            "Epoch 33/50\n",
            "\u001b[1m97/97\u001b[0m \u001b[32m━━━━━━━━━━━━━━━━━━━━\u001b[0m\u001b[37m\u001b[0m \u001b[1m1s\u001b[0m 6ms/step - accuracy: 0.7035 - loss: 0.5230 - val_accuracy: 0.7545 - val_loss: 0.5002\n",
            "Epoch 34/50\n",
            "\u001b[1m97/97\u001b[0m \u001b[32m━━━━━━━━━━━━━━━━━━━━\u001b[0m\u001b[37m\u001b[0m \u001b[1m1s\u001b[0m 7ms/step - accuracy: 0.7235 - loss: 0.5036 - val_accuracy: 0.7003 - val_loss: 0.5318\n",
            "Epoch 35/50\n",
            "\u001b[1m97/97\u001b[0m \u001b[32m━━━━━━━━━━━━━━━━━━━━\u001b[0m\u001b[37m\u001b[0m \u001b[1m1s\u001b[0m 7ms/step - accuracy: 0.6954 - loss: 0.5359 - val_accuracy: 0.7287 - val_loss: 0.5537\n",
            "Epoch 36/50\n",
            "\u001b[1m97/97\u001b[0m \u001b[32m━━━━━━━━━━━━━━━━━━━━\u001b[0m\u001b[37m\u001b[0m \u001b[1m1s\u001b[0m 7ms/step - accuracy: 0.7319 - loss: 0.5167 - val_accuracy: 0.7506 - val_loss: 0.4826\n",
            "Epoch 37/50\n",
            "\u001b[1m97/97\u001b[0m \u001b[32m━━━━━━━━━━━━━━━━━━━━\u001b[0m\u001b[37m\u001b[0m \u001b[1m1s\u001b[0m 6ms/step - accuracy: 0.7476 - loss: 0.4777 - val_accuracy: 0.7636 - val_loss: 0.4812\n",
            "Epoch 38/50\n",
            "\u001b[1m97/97\u001b[0m \u001b[32m━━━━━━━━━━━━━━━━━━━━\u001b[0m\u001b[37m\u001b[0m \u001b[1m1s\u001b[0m 6ms/step - accuracy: 0.7489 - loss: 0.4728 - val_accuracy: 0.7532 - val_loss: 0.4835\n",
            "Epoch 39/50\n",
            "\u001b[1m97/97\u001b[0m \u001b[32m━━━━━━━━━━━━━━━━━━━━\u001b[0m\u001b[37m\u001b[0m \u001b[1m1s\u001b[0m 6ms/step - accuracy: 0.7482 - loss: 0.4640 - val_accuracy: 0.7132 - val_loss: 0.5040\n",
            "Epoch 40/50\n",
            "\u001b[1m97/97\u001b[0m \u001b[32m━━━━━━━━━━━━━━━━━━━━\u001b[0m\u001b[37m\u001b[0m \u001b[1m1s\u001b[0m 6ms/step - accuracy: 0.7336 - loss: 0.4859 - val_accuracy: 0.7610 - val_loss: 0.4797\n",
            "Epoch 41/50\n",
            "\u001b[1m97/97\u001b[0m \u001b[32m━━━━━━━━━━━━━━━━━━━━\u001b[0m\u001b[37m\u001b[0m \u001b[1m1s\u001b[0m 6ms/step - accuracy: 0.7644 - loss: 0.4622 - val_accuracy: 0.7610 - val_loss: 0.4625\n",
            "Epoch 42/50\n",
            "\u001b[1m97/97\u001b[0m \u001b[32m━━━━━━━━━━━━━━━━━━━━\u001b[0m\u001b[37m\u001b[0m \u001b[1m1s\u001b[0m 7ms/step - accuracy: 0.7445 - loss: 0.4538 - val_accuracy: 0.7429 - val_loss: 0.4736\n",
            "Epoch 43/50\n",
            "\u001b[1m97/97\u001b[0m \u001b[32m━━━━━━━━━━━━━━━━━━━━\u001b[0m\u001b[37m\u001b[0m \u001b[1m1s\u001b[0m 7ms/step - accuracy: 0.7440 - loss: 0.4731 - val_accuracy: 0.7674 - val_loss: 0.4569\n",
            "Epoch 44/50\n",
            "\u001b[1m97/97\u001b[0m \u001b[32m━━━━━━━━━━━━━━━━━━━━\u001b[0m\u001b[37m\u001b[0m \u001b[1m1s\u001b[0m 7ms/step - accuracy: 0.7441 - loss: 0.4720 - val_accuracy: 0.7571 - val_loss: 0.4679\n",
            "Epoch 45/50\n",
            "\u001b[1m97/97\u001b[0m \u001b[32m━━━━━━━━━━━━━━━━━━━━\u001b[0m\u001b[37m\u001b[0m \u001b[1m1s\u001b[0m 6ms/step - accuracy: 0.7581 - loss: 0.4452 - val_accuracy: 0.7661 - val_loss: 0.4417\n",
            "Epoch 46/50\n",
            "\u001b[1m97/97\u001b[0m \u001b[32m━━━━━━━━━━━━━━━━━━━━\u001b[0m\u001b[37m\u001b[0m \u001b[1m1s\u001b[0m 6ms/step - accuracy: 0.7583 - loss: 0.4540 - val_accuracy: 0.7519 - val_loss: 0.4652\n",
            "Epoch 47/50\n",
            "\u001b[1m97/97\u001b[0m \u001b[32m━━━━━━━━━━━━━━━━━━━━\u001b[0m\u001b[37m\u001b[0m \u001b[1m1s\u001b[0m 6ms/step - accuracy: 0.7644 - loss: 0.4461 - val_accuracy: 0.7674 - val_loss: 0.4684\n",
            "Epoch 48/50\n",
            "\u001b[1m97/97\u001b[0m \u001b[32m━━━━━━━━━━━━━━━━━━━━\u001b[0m\u001b[37m\u001b[0m \u001b[1m1s\u001b[0m 7ms/step - accuracy: 0.7865 - loss: 0.4204 - val_accuracy: 0.7403 - val_loss: 0.4672\n",
            "Epoch 49/50\n",
            "\u001b[1m97/97\u001b[0m \u001b[32m━━━━━━━━━━━━━━━━━━━━\u001b[0m\u001b[37m\u001b[0m \u001b[1m1s\u001b[0m 7ms/step - accuracy: 0.7608 - loss: 0.4478 - val_accuracy: 0.7506 - val_loss: 0.5240\n",
            "Epoch 50/50\n",
            "\u001b[1m97/97\u001b[0m \u001b[32m━━━━━━━━━━━━━━━━━━━━\u001b[0m\u001b[37m\u001b[0m \u001b[1m1s\u001b[0m 7ms/step - accuracy: 0.6809 - loss: 0.5246 - val_accuracy: 0.7468 - val_loss: 0.4935\n",
            "\u001b[1m31/31\u001b[0m \u001b[32m━━━━━━━━━━━━━━━━━━━━\u001b[0m\u001b[37m\u001b[0m \u001b[1m0s\u001b[0m 3ms/step - accuracy: 0.7611 - loss: 0.4325\n",
            "Test Loss (combined): 0.4452979862689972, Test Accuracy (combined): 0.7675619721412659\n",
            "\u001b[1m31/31\u001b[0m \u001b[32m━━━━━━━━━━━━━━━━━━━━\u001b[0m\u001b[37m\u001b[0m \u001b[1m0s\u001b[0m 7ms/step\n"
          ]
        }
      ]
    },
    {
      "cell_type": "code",
      "source": [
        "# Classification report\n",
        "from sklearn.metrics import classification_report\n",
        "print(\"Classification Report (combined):\")\n",
        "print(classification_report(y_test_seq, y_pred_combined))"
      ],
      "metadata": {
        "id": "GS2162Vw392v",
        "outputId": "9430627b-4365-4330-a4c1-ed59ca34b9da",
        "colab": {
          "base_uri": "https://localhost:8080/"
        }
      },
      "execution_count": 25,
      "outputs": [
        {
          "output_type": "stream",
          "name": "stdout",
          "text": [
            "Classification Report (combined):\n",
            "              precision    recall  f1-score   support\n",
            "\n",
            "           0       0.81      0.49      0.61       357\n",
            "           1       0.76      0.93      0.83       611\n",
            "\n",
            "    accuracy                           0.77       968\n",
            "   macro avg       0.78      0.71      0.72       968\n",
            "weighted avg       0.77      0.77      0.75       968\n",
            "\n"
          ]
        }
      ]
    },
    {
      "cell_type": "code",
      "source": [
        "# Confusion matrix\n",
        "conf_matrix_combined = confusion_matrix(y_test_seq, y_pred_combined)\n",
        "print(\"Confusion Matrix (combined):\")\n",
        "print(conf_matrix_combined)"
      ],
      "metadata": {
        "id": "-MR2peeewLcT",
        "outputId": "fefd726f-e4fe-47e5-9676-a1d650f58655",
        "colab": {
          "base_uri": "https://localhost:8080/"
        }
      },
      "execution_count": 26,
      "outputs": [
        {
          "output_type": "stream",
          "name": "stdout",
          "text": [
            "Confusion Matrix (combined):\n",
            "[[174 183]\n",
            " [ 42 569]]\n"
          ]
        }
      ]
    },
    {
      "cell_type": "code",
      "source": [
        "# ROC Curve and AUC Score\n",
        "roc_auc_combined = roc_auc_score(y_test_seq, y_pred_prob_combined)\n",
        "fpr_combined, tpr_combined, thresholds_combined = roc_curve(y_test_seq, y_pred_prob_combined)\n",
        "plt.figure(figsize=(8, 6))\n",
        "plt.plot(fpr_combined, tpr_combined, label=f\"Combined LSTM+XGBoost (AUC = {roc_auc_combined:.2f})\")\n",
        "plt.plot([0, 1], [0, 1], 'k--')\n",
        "plt.xlabel('False Positive Rate')\n",
        "plt.ylabel('True Positive Rate')\n",
        "plt.title('ROC Curve (Combined)')\n",
        "plt.legend()\n",
        "plt.show()"
      ],
      "metadata": {
        "id": "k37scs9u3cIO",
        "outputId": "7825b930-7283-4dd7-ea89-374477b9b069",
        "colab": {
          "base_uri": "https://localhost:8080/",
          "height": 564
        }
      },
      "execution_count": 27,
      "outputs": [
        {
          "output_type": "display_data",
          "data": {
            "text/plain": [
              "<Figure size 800x600 with 1 Axes>"
            ],
            "image/png": "[encoded data removed]"
          },
          "metadata": {}
        }
      ]
    },
    {
      "cell_type": "code",
      "source": [
        "# Save the trained combined LSTM model\n",
        "lstm_model_combined.save(\"lstm_xgb_combined_model_not_tuned.h5\")\n",
        "print(\"Combined LSTM+XGBoost model saved as 'lstm_xgb_combined_model_untuned.h5'\")"
      ],
      "metadata": {
        "id": "gXIyl_T78iQJ",
        "outputId": "ff68ca6c-e639-4474-b6b2-bcaa28e5741e",
        "colab": {
          "base_uri": "https://localhost:8080/"
        }
      },
      "execution_count": 28,
      "outputs": [
        {
          "output_type": "stream",
          "name": "stderr",
          "text": [
            "WARNING:absl:You are saving your model as an HDF5 file via `model.save()` or `keras.saving.save_model(model)`. This file format is considered legacy. We recommend using instead the native Keras format, e.g. `model.save('my_model.keras')` or `keras.saving.save_model(model, 'my_model.keras')`. \n"
          ]
        },
        {
          "output_type": "stream",
          "name": "stdout",
          "text": [
            "Combined LSTM+XGBoost model saved as 'lstm_xgb_combined_model_untuned.h5'\n"
          ]
        }
      ]
    },
    {
      "cell_type": "markdown",
      "source": [],
      "metadata": {
        "id": "jiw72coC4iZs"
      }
    },
    {
      "cell_type": "markdown",
      "source": [
        "# **Fine tuning LSTM Using Random Search**"
      ],
      "metadata": {
        "id": "f_PBSHEu4inK"
      }
    },
    {
      "cell_type": "code",
      "source": [
        "# Define function to create an LSTM model with parameters\n",
        "def create_lstm_model(units=64, dropout_rate=0.2, learning_rate=0.001):\n",
        "    model = Sequential([\n",
        "        LSTM(units, return_sequences=True, input_shape=(X_train_combined.shape[1], X_train_combined.shape[2])),\n",
        "        Dropout(dropout_rate),\n",
        "        LSTM(units // 2),\n",
        "        Dropout(dropout_rate),\n",
        "        Dense(16, activation='relu'),\n",
        "        Dense(1, activation='sigmoid')\n",
        "    ])\n",
        "    optimizer = Adam(learning_rate=learning_rate)\n",
        "    model.compile(optimizer=optimizer, loss='binary_crossentropy', metrics=['accuracy'])\n",
        "    return model\n",
        "\n",
        "# Hyperparameter grid\n",
        "param_grid = {\n",
        "    \"units\": [32, 64, 128],\n",
        "    \"dropout_rate\": [0.2, 0.3, 0.5],\n",
        "    \"learning_rate\": [0.001, 0.005, 0.01],\n",
        "    \"batch_size\": [32, 64],\n",
        "    \"epochs\": [20]\n",
        "}\n",
        "\n",
        "# Track best parameters and results\n",
        "best_params = None\n",
        "best_accuracy = 0\n",
        "best_model = None\n",
        "\n",
        "# Fine-tuning loop\n",
        "for units in param_grid[\"units\"]:\n",
        "    for dropout_rate in param_grid[\"dropout_rate\"]:\n",
        "        for learning_rate in param_grid[\"learning_rate\"]:\n",
        "            for batch_size in param_grid[\"batch_size\"]:\n",
        "                print(f\"Training model with units={units}, dropout_rate={dropout_rate}, learning_rate={learning_rate}, batch_size={batch_size}\")\n",
        "\n",
        "                # Create and train model\n",
        "                model = create_lstm_model(units, dropout_rate, learning_rate)\n",
        "                history = model.fit(\n",
        "                    X_train_combined, y_train_seq,\n",
        "                    validation_data=(X_val_combined, y_val_seq),\n",
        "                    epochs=param_grid[\"epochs\"][0],\n",
        "                    batch_size=batch_size,\n",
        "                    verbose=0\n",
        "                )\n",
        "\n",
        "                # Evaluate on validation set\n",
        "                val_loss, val_accuracy = model.evaluate(X_val_combined, y_val_seq, verbose=0)\n",
        "                print(f\"Validation Accuracy: {val_accuracy}\")\n",
        "\n",
        "                # Track the best model\n",
        "                if val_accuracy > best_accuracy:\n",
        "                    best_accuracy = val_accuracy\n",
        "                    best_params = {\"units\": units, \"dropout_rate\": dropout_rate, \"learning_rate\": learning_rate, \"batch_size\": batch_size}\n",
        "                    best_model = model\n",
        "\n",
        "print(f\"Best Parameters: {best_params}\")\n",
        "print(f\"Best Validation Accuracy: {best_accuracy}\")\n",
        "\n",
        "# Evaluate the best model on the test set\n",
        "test_loss, test_accuracy = best_model.evaluate(X_test_combined, y_test_seq, verbose=1)\n",
        "print(f\"Test Loss: {test_loss}, Test Accuracy: {test_accuracy}\")\n",
        "\n",
        "# Predict on the test set\n",
        "y_pred_prob_tuned = best_model.predict(X_test_combined).flatten()\n",
        "y_pred_tuned = (y_pred_prob_tuned > 0.5).astype(int)\n"
      ],
      "metadata": {
        "id": "oLVJ56364k50",
        "outputId": "1af8e3c0-af43-48ae-9942-85e2fb39c525",
        "colab": {
          "base_uri": "https://localhost:8080/"
        }
      },
      "execution_count": 29,
      "outputs": [
        {
          "output_type": "stream",
          "name": "stderr",
          "text": [
            "/usr/local/lib/python3.10/dist-packages/keras/src/layers/rnn/rnn.py:204: UserWarning: Do not pass an `input_shape`/`input_dim` argument to a layer. When using Sequential models, prefer using an `Input(shape)` object as the first layer in the model instead.\n",
            "  super().__init__(**kwargs)\n"
          ]
        },
        {
          "output_type": "stream",
          "name": "stdout",
          "text": [
            "Training model with units=32, dropout_rate=0.2, learning_rate=0.001, batch_size=32\n",
            "Validation Accuracy: 0.6963824033737183\n",
            "Training model with units=32, dropout_rate=0.2, learning_rate=0.001, batch_size=64\n",
            "Validation Accuracy: 0.6873385310173035\n",
            "Training model with units=32, dropout_rate=0.2, learning_rate=0.005, batch_size=32\n",
            "Validation Accuracy: 0.6912144422531128\n",
            "Training model with units=32, dropout_rate=0.2, learning_rate=0.005, batch_size=64\n",
            "Validation Accuracy: 0.6666666865348816\n",
            "Training model with units=32, dropout_rate=0.2, learning_rate=0.01, batch_size=32\n",
            "Validation Accuracy: 0.6744186282157898\n",
            "Training model with units=32, dropout_rate=0.2, learning_rate=0.01, batch_size=64\n",
            "Validation Accuracy: 0.6937984228134155\n",
            "Training model with units=32, dropout_rate=0.3, learning_rate=0.001, batch_size=32\n",
            "Validation Accuracy: 0.6950904130935669\n",
            "Training model with units=32, dropout_rate=0.3, learning_rate=0.001, batch_size=64\n",
            "Validation Accuracy: 0.6770026087760925\n",
            "Training model with units=32, dropout_rate=0.3, learning_rate=0.005, batch_size=32\n",
            "Validation Accuracy: 0.6459948420524597\n",
            "Training model with units=32, dropout_rate=0.3, learning_rate=0.005, batch_size=64\n",
            "Validation Accuracy: 0.6912144422531128\n",
            "Training model with units=32, dropout_rate=0.3, learning_rate=0.01, batch_size=32\n",
            "Validation Accuracy: 0.657622754573822\n",
            "Training model with units=32, dropout_rate=0.3, learning_rate=0.01, batch_size=64\n",
            "Validation Accuracy: 0.6653746962547302\n",
            "Training model with units=32, dropout_rate=0.5, learning_rate=0.001, batch_size=32\n",
            "Validation Accuracy: 0.6912144422531128\n",
            "Training model with units=32, dropout_rate=0.5, learning_rate=0.001, batch_size=64\n",
            "Validation Accuracy: 0.667958676815033\n",
            "Training model with units=32, dropout_rate=0.5, learning_rate=0.005, batch_size=32\n",
            "Validation Accuracy: 0.6731266379356384\n",
            "Training model with units=32, dropout_rate=0.5, learning_rate=0.005, batch_size=64\n",
            "Validation Accuracy: 0.6937984228134155\n",
            "Training model with units=32, dropout_rate=0.5, learning_rate=0.01, batch_size=32\n",
            "Validation Accuracy: 0.657622754573822\n",
            "Training model with units=32, dropout_rate=0.5, learning_rate=0.01, batch_size=64\n",
            "Validation Accuracy: 0.6498708128929138\n",
            "Training model with units=64, dropout_rate=0.2, learning_rate=0.001, batch_size=32\n",
            "Validation Accuracy: 0.6950904130935669\n",
            "Training model with units=64, dropout_rate=0.2, learning_rate=0.001, batch_size=64\n",
            "Validation Accuracy: 0.6795865893363953\n",
            "Training model with units=64, dropout_rate=0.2, learning_rate=0.005, batch_size=32\n",
            "Validation Accuracy: 0.6873385310173035\n",
            "Training model with units=64, dropout_rate=0.2, learning_rate=0.005, batch_size=64\n",
            "Validation Accuracy: 0.698966383934021\n",
            "Training model with units=64, dropout_rate=0.2, learning_rate=0.01, batch_size=32\n",
            "Validation Accuracy: 0.6937984228134155\n",
            "Training model with units=64, dropout_rate=0.2, learning_rate=0.01, batch_size=64\n",
            "Validation Accuracy: 0.6937984228134155\n",
            "Training model with units=64, dropout_rate=0.3, learning_rate=0.001, batch_size=32\n",
            "Validation Accuracy: 0.6976743936538696\n",
            "Training model with units=64, dropout_rate=0.3, learning_rate=0.001, batch_size=64\n",
            "Validation Accuracy: 0.6963824033737183\n",
            "Training model with units=64, dropout_rate=0.3, learning_rate=0.005, batch_size=32\n",
            "Validation Accuracy: 0.6653746962547302\n",
            "Training model with units=64, dropout_rate=0.3, learning_rate=0.005, batch_size=64\n",
            "Validation Accuracy: 0.6925064325332642\n",
            "Training model with units=64, dropout_rate=0.3, learning_rate=0.01, batch_size=32\n",
            "Validation Accuracy: 0.6950904130935669\n",
            "Training model with units=64, dropout_rate=0.3, learning_rate=0.01, batch_size=64\n",
            "Validation Accuracy: 0.657622754573822\n",
            "Training model with units=64, dropout_rate=0.5, learning_rate=0.001, batch_size=32\n",
            "Validation Accuracy: 0.6912144422531128\n",
            "Training model with units=64, dropout_rate=0.5, learning_rate=0.001, batch_size=64\n",
            "Validation Accuracy: 0.6912144422531128\n",
            "Training model with units=64, dropout_rate=0.5, learning_rate=0.005, batch_size=32\n",
            "Validation Accuracy: 0.657622754573822\n",
            "Training model with units=64, dropout_rate=0.5, learning_rate=0.005, batch_size=64\n",
            "Validation Accuracy: 0.6937984228134155\n",
            "Training model with units=64, dropout_rate=0.5, learning_rate=0.01, batch_size=32\n",
            "Validation Accuracy: 0.6731266379356384\n",
            "Training model with units=64, dropout_rate=0.5, learning_rate=0.01, batch_size=64\n",
            "Validation Accuracy: 0.6498708128929138\n",
            "Training model with units=128, dropout_rate=0.2, learning_rate=0.001, batch_size=32\n",
            "Validation Accuracy: 0.6950904130935669\n",
            "Training model with units=128, dropout_rate=0.2, learning_rate=0.001, batch_size=64\n",
            "Validation Accuracy: 0.6537467837333679\n",
            "Training model with units=128, dropout_rate=0.2, learning_rate=0.005, batch_size=32\n",
            "Validation Accuracy: 0.6744186282157898\n",
            "Training model with units=128, dropout_rate=0.2, learning_rate=0.005, batch_size=64\n",
            "Validation Accuracy: 0.6692506670951843\n",
            "Training model with units=128, dropout_rate=0.2, learning_rate=0.01, batch_size=32\n",
            "Validation Accuracy: 0.657622754573822\n",
            "Training model with units=128, dropout_rate=0.2, learning_rate=0.01, batch_size=64\n",
            "Validation Accuracy: 0.657622754573822\n",
            "Training model with units=128, dropout_rate=0.3, learning_rate=0.001, batch_size=32\n",
            "Validation Accuracy: 0.6770026087760925\n",
            "Training model with units=128, dropout_rate=0.3, learning_rate=0.001, batch_size=64\n",
            "Validation Accuracy: 0.6912144422531128\n",
            "Training model with units=128, dropout_rate=0.3, learning_rate=0.005, batch_size=32\n",
            "Validation Accuracy: 0.657622754573822\n",
            "Training model with units=128, dropout_rate=0.3, learning_rate=0.005, batch_size=64\n",
            "Validation Accuracy: 0.6718346476554871\n",
            "Training model with units=128, dropout_rate=0.3, learning_rate=0.01, batch_size=32\n",
            "Validation Accuracy: 0.657622754573822\n",
            "Training model with units=128, dropout_rate=0.3, learning_rate=0.01, batch_size=64\n",
            "Validation Accuracy: 0.7041343450546265\n",
            "Training model with units=128, dropout_rate=0.5, learning_rate=0.001, batch_size=32\n",
            "Validation Accuracy: 0.7054263353347778\n",
            "Training model with units=128, dropout_rate=0.5, learning_rate=0.001, batch_size=64\n",
            "Validation Accuracy: 0.6886304616928101\n",
            "Training model with units=128, dropout_rate=0.5, learning_rate=0.005, batch_size=32\n",
            "Validation Accuracy: 0.657622754573822\n",
            "Training model with units=128, dropout_rate=0.5, learning_rate=0.005, batch_size=64\n",
            "Validation Accuracy: 0.657622754573822\n",
            "Training model with units=128, dropout_rate=0.5, learning_rate=0.01, batch_size=32\n",
            "Validation Accuracy: 0.657622754573822\n",
            "Training model with units=128, dropout_rate=0.5, learning_rate=0.01, batch_size=64\n",
            "Validation Accuracy: 0.657622754573822\n",
            "Best Parameters: {'units': 128, 'dropout_rate': 0.5, 'learning_rate': 0.001, 'batch_size': 32}\n",
            "Best Validation Accuracy: 0.7054263353347778\n",
            "\u001b[1m31/31\u001b[0m \u001b[32m━━━━━━━━━━━━━━━━━━━━\u001b[0m\u001b[37m\u001b[0m \u001b[1m0s\u001b[0m 2ms/step - accuracy: 0.6358 - loss: 0.5882\n",
            "Test Loss: 0.5820583701133728, Test Accuracy: 0.6673553586006165\n",
            "\u001b[1m31/31\u001b[0m \u001b[32m━━━━━━━━━━━━━━━━━━━━\u001b[0m\u001b[37m\u001b[0m \u001b[1m0s\u001b[0m 7ms/step\n"
          ]
        }
      ]
    },
    {
      "cell_type": "code",
      "source": [
        "# Classification report\n",
        "print(\"Classification Report (Tuned LSTM):\")\n",
        "print(classification_report(y_test_seq, y_pred_tuned))\n"
      ],
      "metadata": {
        "id": "dB0N12y64poD",
        "outputId": "ecd434c2-7d1f-4836-dd1a-e97ec608aaea",
        "colab": {
          "base_uri": "https://localhost:8080/"
        }
      },
      "execution_count": 30,
      "outputs": [
        {
          "output_type": "stream",
          "name": "stdout",
          "text": [
            "Classification Report (Tuned LSTM):\n",
            "              precision    recall  f1-score   support\n",
            "\n",
            "           0       0.71      0.17      0.27       357\n",
            "           1       0.66      0.96      0.78       611\n",
            "\n",
            "    accuracy                           0.67       968\n",
            "   macro avg       0.69      0.56      0.53       968\n",
            "weighted avg       0.68      0.67      0.59       968\n",
            "\n"
          ]
        }
      ]
    },
    {
      "cell_type": "code",
      "source": [
        "# Save the combined model\n",
        "lstm_model_combined.save(\"lstm_xgb_combined_model_tuned.h5\")\n",
        "print(\"Combined LSTM+XGBoost model saved as 'lstm_xgb_combined_model_tuned.h5'\")"
      ],
      "metadata": {
        "id": "svU7SMqC3cLj",
        "outputId": "cc12cb53-36a5-4d90-aa18-82b4f84a9918",
        "colab": {
          "base_uri": "https://localhost:8080/"
        }
      },
      "execution_count": 31,
      "outputs": [
        {
          "output_type": "stream",
          "name": "stderr",
          "text": [
            "WARNING:absl:You are saving your model as an HDF5 file via `model.save()` or `keras.saving.save_model(model)`. This file format is considered legacy. We recommend using instead the native Keras format, e.g. `model.save('my_model.keras')` or `keras.saving.save_model(model, 'my_model.keras')`. \n"
          ]
        },
        {
          "output_type": "stream",
          "name": "stdout",
          "text": [
            "Combined LSTM+XGBoost model saved as 'lstm_xgb_combined_model_tuned.h5'\n"
          ]
        }
      ]
    },
    {
      "cell_type": "markdown",
      "source": [
        "**The best performing model was just XGBoost with no hyperparamter tuning and no early stopping!!!**"
      ],
      "metadata": {
        "id": "RpkjxKs7IH3S"
      }
    },
    {
      "cell_type": "markdown",
      "source": [
        "**Addind economic data to XGBoost**"
      ],
      "metadata": {
        "id": "-iMzoiwkJR5K"
      }
    },
    {
      "cell_type": "code",
      "source": [
        "import pandas as pd\n",
        "from sklearn.model_selection import train_test_split\n",
        "from sklearn.preprocessing import MinMaxScaler\n",
        "from xgboost import XGBClassifier\n",
        "from sklearn.metrics import classification_report, confusion_matrix, roc_auc_score, roc_curve\n",
        "import matplotlib.pyplot as plt\n",
        "\n",
        "# Load SPY + sentiment data and economic data\n",
        "merged_data = pd.read_csv('merged_spy_sentiment.csv', parse_dates=['date'], index_col='date')\n",
        "economic_data = pd.read_csv('economic_data.csv', parse_dates=['Date'], index_col='Date')\n",
        "\n",
        "# Merge economic data with SPY + sentiment data\n",
        "merged_data = merged_data.join(economic_data, how='inner')  # Join on the index (dates)\n",
        "\n",
        "# Select structured features including economic data\n",
        "structured_features = ['SMA_20', 'RSI_14', 'BB_High', 'BB_Low', 'compound', 'Unemployment Rate', 'Fed Funds Rate']\n",
        "target = 'Return_1D'\n",
        "\n",
        "# Normalize the structured features\n",
        "scaler = MinMaxScaler()\n",
        "X_structured = scaler.fit_transform(merged_data[structured_features])\n",
        "y = (merged_data[target] > 0).astype(int)\n",
        "\n",
        "# Train-test split for structured model\n",
        "X_train_struct, X_temp_struct, y_train_struct, y_temp_struct = train_test_split(X_structured, y, test_size=0.3, random_state=42)\n",
        "\n",
        "# Split temp data into validation and test sets\n",
        "X_val_struct, X_test_struct, y_val_struct, y_test_struct = train_test_split(X_temp_struct, y_temp_struct, test_size=0.5, random_state=42)\n",
        "\n",
        "# Train the XGBoost model without early stopping\n",
        "xgb_model = XGBClassifier(random_state=42, use_label_encoder=False, eval_metric='logloss')\n",
        "xgb_model.fit(\n",
        "    X_train_struct,\n",
        "    y_train_struct,\n",
        "    verbose=True\n",
        ")\n",
        "\n",
        "# Predict probabilities for sequential model integration\n",
        "xgb_features_train = xgb_model.predict_proba(X_train_struct)[:, 1]\n",
        "xgb_features_val = xgb_model.predict_proba(X_val_struct)[:, 1]\n",
        "xgb_features_test = xgb_model.predict_proba(X_test_struct)[:, 1]\n",
        "\n",
        "# Predict on test set\n",
        "y_pred_test = xgb_model.predict(X_test_struct)\n",
        "y_pred_prob_test = xgb_model.predict_proba(X_test_struct)[:, 1]\n"
      ],
      "metadata": {
        "id": "ZCGXH9-uJUr-",
        "outputId": "29609fa0-3ce8-4456-ccfb-04115b3c7a00",
        "colab": {
          "base_uri": "https://localhost:8080/"
        }
      },
      "execution_count": 34,
      "outputs": [
        {
          "output_type": "stream",
          "name": "stderr",
          "text": [
            "/usr/local/lib/python3.10/dist-packages/xgboost/sklearn.py:1395: UserWarning: `use_label_encoder` is deprecated in 1.7.0.\n",
            "  warnings.warn(\"`use_label_encoder` is deprecated in 1.7.0.\")\n"
          ]
        }
      ]
    },
    {
      "cell_type": "code",
      "source": [
        "# Manual calculation of classification report\n",
        "from collections import Counter\n",
        "\n",
        "# True positives, false positives, true negatives, and false negatives\n",
        "tp = sum((y_test_struct == 1) & (y_pred_test == 1))  # True Positives\n",
        "fp = sum((y_test_struct == 0) & (y_pred_test == 1))  # False Positives\n",
        "tn = sum((y_test_struct == 0) & (y_pred_test == 0))  # True Negatives\n",
        "fn = sum((y_test_struct == 1) & (y_pred_test == 0))  # False Negatives\n",
        "\n",
        "# Total samples\n",
        "total_samples = len(y_test_struct)\n",
        "\n",
        "# Accuracy\n",
        "accuracy = (tp + tn) / total_samples\n",
        "\n",
        "# Precision, Recall, and F1-Score for each class\n",
        "precision_1 = tp / (tp + fp) if (tp + fp) > 0 else 0\n",
        "recall_1 = tp / (tp + fn) if (tp + fn) > 0 else 0\n",
        "f1_score_1 = 2 * (precision_1 * recall_1) / (precision_1 + recall_1) if (precision_1 + recall_1) > 0 else 0\n",
        "\n",
        "precision_0 = tn / (tn + fn) if (tn + fn) > 0 else 0\n",
        "recall_0 = tn / (tn + fp) if (tn + fp) > 0 else 0\n",
        "f1_score_0 = 2 * (precision_0 * recall_0) / (precision_0 + recall_0) if (precision_0 + recall_0) > 0 else 0\n",
        "\n",
        "# Macro-average (average of both classes)\n",
        "macro_precision = (precision_0 + precision_1) / 2\n",
        "macro_recall = (recall_0 + recall_1) / 2\n",
        "macro_f1 = (f1_score_0 + f1_score_1) / 2\n",
        "\n",
        "# Weighted average (weighted by class support)\n",
        "support_0 = Counter(y_test_struct)[0]\n",
        "support_1 = Counter(y_test_struct)[1]\n",
        "\n",
        "weighted_precision = (precision_0 * support_0 + precision_1 * support_1) / total_samples\n",
        "weighted_recall = (recall_0 * support_0 + recall_1 * support_1) / total_samples\n",
        "weighted_f1 = (f1_score_0 * support_0 + f1_score_1 * support_1) / total_samples\n",
        "\n",
        "# Display metrics\n",
        "print(\"Manual Classification Report:\")\n",
        "print(f\"Class 0: Precision={precision_0:.2f}, Recall={recall_0:.2f}, F1-Score={f1_score_0:.2f}, Support={support_0}\")\n",
        "print(f\"Class 1: Precision={precision_1:.2f}, Recall={recall_1:.2f}, F1-Score={f1_score_1:.2f}, Support={support_1}\")\n",
        "print(f\"Accuracy: {accuracy:.2f}\")\n",
        "print(f\"Macro Avg: Precision={macro_precision:.2f}, Recall={macro_recall:.2f}, F1-Score={macro_f1:.2f}\")\n",
        "print(f\"Weighted Avg: Precision={weighted_precision:.2f}, Recall={weighted_recall:.2f}, F1-Score={weighted_f1:.2f}\")\n"
      ],
      "metadata": {
        "id": "YpxRqTcbJaTE",
        "outputId": "18cb584c-348d-4640-f5b8-ade521f3e2b9",
        "colab": {
          "base_uri": "https://localhost:8080/"
        }
      },
      "execution_count": 40,
      "outputs": [
        {
          "output_type": "stream",
          "name": "stdout",
          "text": [
            "Manual Classification Report:\n",
            "Class 0: Precision=1.00, Recall=1.00, F1-Score=1.00, Support=259\n",
            "Class 1: Precision=1.00, Recall=1.00, F1-Score=1.00, Support=469\n",
            "Accuracy: 1.00\n",
            "Macro Avg: Precision=1.00, Recall=1.00, F1-Score=1.00\n",
            "Weighted Avg: Precision=1.00, Recall=1.00, F1-Score=1.00\n"
          ]
        }
      ]
    },
    {
      "cell_type": "code",
      "source": [
        "tp = sum((y_test_struct == 1) & (y_pred_test == 1))\n",
        "tn = sum((y_test_struct == 0) & (y_pred_test == 0))\n",
        "fp = sum((y_test_struct == 0) & (y_pred_test == 1))\n",
        "fn = sum((y_test_struct == 1) & (y_pred_test == 0))\n",
        "print(f\"True Positives: {tp}, True Negatives: {tn}, False Positives: {fp}, False Negatives: {fn}\")\n"
      ],
      "metadata": {
        "id": "s-nuIJJ3L1yu",
        "outputId": "2715e3e9-2e78-46d7-d68d-5d31adc946e2",
        "colab": {
          "base_uri": "https://localhost:8080/"
        }
      },
      "execution_count": 44,
      "outputs": [
        {
          "output_type": "stream",
          "name": "stdout",
          "text": [
            "True Positives: 469, True Negatives: 259, False Positives: 0, False Negatives: 0\n"
          ]
        }
      ]
    },
    {
      "cell_type": "code",
      "source": [
        "\n",
        "# ROC Curve and AUC Score\n",
        "roc_auc = roc_auc_score(y_test_struct, y_pred_prob_test)\n",
        "fpr, tpr, thresholds = roc_curve(y_test_struct, y_pred_prob_test)\n",
        "\n",
        "plt.figure(figsize=(8, 6))\n",
        "plt.plot(fpr, tpr, label=f\"XGBoost (AUC = {roc_auc:.2f})\")\n",
        "plt.plot([0, 1], [0, 1], 'k--', label=\"Random Guess\")\n",
        "plt.xlabel('False Positive Rate')\n",
        "plt.ylabel('True Positive Rate')\n",
        "plt.title('ROC Curve')\n",
        "plt.legend()\n",
        "plt.show()\n"
      ],
      "metadata": {
        "id": "uhJqI2GuJctt",
        "outputId": "a7b4561e-4de8-4409-dd62-2ec4239cac57",
        "colab": {
          "base_uri": "https://localhost:8080/",
          "height": 564
        }
      },
      "execution_count": 37,
      "outputs": [
        {
          "output_type": "display_data",
          "data": {
            "text/plain": [
              "<Figure size 800x600 with 1 Axes>"
            ],
            "image/png": "[encoded data removed]"
          },
          "metadata": {}
        }
      ]
    },
    {
      "cell_type": "code",
      "source": [
        "\n",
        "# Save the updated XGBoost model\n",
        "import pickle\n",
        "with open(\"xgb_model_with_econ_data.pkl\", \"wb\") as file:\n",
        "    pickle.dump(xgb_model, file)\n",
        "print(\"Model saved as 'xgb_model_with_econ_data.pkl'\")\n"
      ],
      "metadata": {
        "id": "EdYQ_J59Jc2c",
        "outputId": "42bbb7c8-ab0c-49d4-8c6b-5314154e21fd",
        "colab": {
          "base_uri": "https://localhost:8080/"
        }
      },
      "execution_count": 45,
      "outputs": [
        {
          "output_type": "stream",
          "name": "stdout",
          "text": [
            "Model saved as 'xgb_model_with_econ_data.pkl'\n"
          ]
        }
      ]
    },
    {
      "cell_type": "markdown",
      "source": [
        "**Adding Economic Data (Unemployment and Interest Rate) to XGboost Overfit the model!**"
      ],
      "metadata": {
        "id": "Ry-O4iMvMoH6"
      }
    },
    {
      "cell_type": "code",
      "source": [
        "import pickle\n",
        "import matplotlib.pyplot as plt\n",
        "\n",
        "# Load the saved XGBoost model\n",
        "model_filename = \"xgb_model_no_early_stopping.pkl\"\n",
        "with open(model_filename, \"rb\") as file:\n",
        "    xgb_model_loaded = pickle.load(file)\n",
        "\n",
        "print(\"XGBoost model loaded successfully.\")\n"
      ],
      "metadata": {
        "id": "OsJLgW7_Mq7s",
        "outputId": "c9df80c7-89a1-4853-f50a-a00036677330",
        "colab": {
          "base_uri": "https://localhost:8080/"
        }
      },
      "execution_count": 46,
      "outputs": [
        {
          "output_type": "stream",
          "name": "stdout",
          "text": [
            "XGBoost model loaded successfully.\n"
          ]
        }
      ]
    },
    {
      "cell_type": "code",
      "source": [
        "import numpy as np\n",
        "\n",
        "# Define feature names\n",
        "feature_names = ['SMA_20', 'RSI_14', 'BB_High', 'BB_Low', 'compound', 'Unemployment Rate', 'Fed Funds Rate']\n",
        "\n",
        "# Extract feature importances\n",
        "feature_importance = xgb_model_loaded.feature_importances_\n",
        "\n",
        "# Sort feature importances for visualization\n",
        "sorted_idx = np.argsort(feature_importance)[::-1]\n",
        "\n",
        "# Plot feature importance\n",
        "plt.figure(figsize=(10, 6))\n",
        "plt.barh(np.array(feature_names)[sorted_idx], feature_importance[sorted_idx], color='skyblue')\n",
        "plt.xlabel(\"Feature Importance\")\n",
        "plt.ylabel(\"Features\")\n",
        "plt.title(\"XGBoost Feature Importance (Untuned Model)\")\n",
        "plt.gca().invert_yaxis()  # Invert y-axis for better readability\n",
        "plt.show()\n"
      ],
      "metadata": {
        "id": "VaLr7jsgNJ8z",
        "outputId": "326884b6-786b-4a97-fb1d-e08f3c766951",
        "colab": {
          "base_uri": "https://localhost:8080/",
          "height": 564
        }
      },
      "execution_count": 47,
      "outputs": [
        {
          "output_type": "display_data",
          "data": {
            "text/plain": [
              "<Figure size 1000x600 with 1 Axes>"
            ],
            "image/png": "[encoded data removed]"
          },
          "metadata": {}
        }
      ]
    },
    {
      "cell_type": "code",
      "source": [
        "print(merged_data[['compound', 'Return_1D']].corr())\n"
      ],
      "metadata": {
        "id": "1KTbu-KMNMCL",
        "outputId": "29c8481f-9e99-427c-dd0a-0e061b9b7eda",
        "colab": {
          "base_uri": "https://localhost:8080/"
        }
      },
      "execution_count": 48,
      "outputs": [
        {
          "output_type": "stream",
          "name": "stdout",
          "text": [
            "           compound  Return_1D\n",
            "compound   1.000000   0.000013\n",
            "Return_1D  0.000013   1.000000\n"
          ]
        }
      ]
    },
    {
      "cell_type": "markdown",
      "source": [
        "The correlation between compound and the target variable Return_1D is effectively 0 (0.000013), which explains why XGBoost assigned it no importance. This indicates that the sentiment score (compound) has no linear relationship with the one-day return (Return_1D), at least in this dataset.\n"
      ],
      "metadata": {
        "id": "AMtPwGQtN8Ok"
      }
    },
    {
      "cell_type": "code",
      "source": [],
      "metadata": {
        "id": "I8e4xOPtOA2U"
      },
      "execution_count": null,
      "outputs": []
    }
  ],
  "metadata": {
    "colab": {
      "name": "Making the Most of your Colab Subscription",
      "provenance": [],
      "machine_shape": "hm",
      "gpuType": "T4"
    },
    "kernelspec": {
      "display_name": "Python 3",
      "name": "python3"
    },
    "accelerator": "GPU"
  },
  "nbformat": 4,
  "nbformat_minor": 0
}